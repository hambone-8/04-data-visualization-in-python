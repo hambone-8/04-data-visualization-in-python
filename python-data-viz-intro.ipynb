{
 "cells": [
  {
   "cell_type": "markdown",
   "metadata": {
    "slideshow": {
     "slide_type": "slide"
    }
   },
   "source": [
    "## Principles of Data Visualization With Python\n",
    "\n",
    "_Author:_ Dave Yerrington (San Francisco)\n",
    "\n",
    "---\n",
    "\n",
    "\n",
    "### Learning Objectives\n",
    "*After this lesson, you will be able to:*\n",
    "- Describe why data visualization is important.\n",
    "- Identify the characteristics of a great data visualization.\n",
    "- Describe when you would use a bar chart, pie chart, scatter plot, and histogram.\n"
   ]
  },
  {
   "cell_type": "markdown",
   "metadata": {
    "slideshow": {
     "slide_type": "slide"
    }
   },
   "source": [
    "### Lesson Guide\n",
    "\n",
    "- [Why Use Data Visualization?](#why_data_viz)\n",
    "- [Anscombe's Quartet](#anscombe)\n",
    "- [Attributes of Good Visualization](#viz_attr)\n",
    "- [Choosing the Right Chart](#chart_choice)\n",
    "- [Visualization Programming Libraries](#visualization_libraries)\n",
    "- [Independent Research](#independent_research)\n",
    "- [Conclusion](#conclusion)\n"
   ]
  },
  {
   "cell_type": "markdown",
   "metadata": {
    "slideshow": {
     "slide_type": "slide"
    }
   },
   "source": [
    "<a id='why_data_viz'></a>\n",
    "\n",
    "### Discussion: Why Use Data Visualization?\n",
    "\n",
    "---\n",
    "\n",
    "In a small group, discuss some of the ways you have used or enjoyed data visualization. Why do you think data visualization is useful? Why is it important?\n"
   ]
  },
  {
   "cell_type": "markdown",
   "metadata": {
    "slideshow": {
     "slide_type": "slide"
    }
   },
   "source": [
    "### Why Use Data Visualization?\n",
    "\n",
    "---\n",
    "\n",
    "Because of the way the human brain processes information, charts or graphs that visualize large amounts of complex data are easier to understand than spreadsheets or reports. \n",
    "\n",
    "Data visualization is a quick, easy way to convey concepts in a universal  manner — and you can experiment with different scenarios by making slight adjustments.\n",
    "\n",
    "Here's a helpful overview of the importance of data visualization:\n",
    "\n",
    "[SAS: Data Visualization](http://www.sas.com/en_us/insights/big-data/data-visualization.html)"
   ]
  },
  {
   "cell_type": "code",
   "execution_count": null,
   "metadata": {
    "ExecuteTime": {
     "end_time": "2021-06-24T20:16:48.433813Z",
     "start_time": "2021-06-24T20:16:46.957817Z"
    },
    "slideshow": {
     "slide_type": "slide"
    }
   },
   "outputs": [],
   "source": [
    "import pandas as pd\n",
    "\n",
    "df = pd.read_csv(\"./datasets/sales_info.csv\")\n",
    "df.head()"
   ]
  },
  {
   "cell_type": "markdown",
   "metadata": {
    "slideshow": {
     "slide_type": "fragment"
    }
   },
   "source": [
    "How useful are our basic metrics of median, mean, and mode? What happens if they're the same?"
   ]
  },
  {
   "cell_type": "markdown",
   "metadata": {
    "slideshow": {
     "slide_type": "slide"
    }
   },
   "source": [
    "<a id='anscombe'></a>\n",
    "\n",
    "### Anscombe's Quartet\n",
    "\n",
    "---\n",
    "\n",
    "Below are the summary statistics for four plots. What do you think the visualization for each plot would look like? \n",
    "\n",
    "![summary statistics for four different plots](./assets/images/anscombs%20quartet.png)"
   ]
  },
  {
   "cell_type": "markdown",
   "metadata": {
    "slideshow": {
     "slide_type": "slide"
    }
   },
   "source": [
    "Although the four plots have the same summary statistics, they are actually completely different.\n",
    "\n",
    "![anscomb's quartet](./assets/images/Anscombe_quartet_3.png)"
   ]
  },
  {
   "cell_type": "markdown",
   "metadata": {
    "slideshow": {
     "slide_type": "slide"
    }
   },
   "source": [
    "These descriptive statistics come from a data set constructed in 1973 by the statistician Francis Anscombe. It is a classic demonstration of the importance of data visualization.\n",
    "\n",
    "- It highlights the failures of summary statistics.\n",
    "- It shows the effect of outliers on statistical properties.\n",
    "- Anscombe's intention was to attack the impression among statisticians that \"numerical calculations are exact, but graphs are rough.\""
   ]
  },
  {
   "cell_type": "markdown",
   "metadata": {
    "slideshow": {
     "slide_type": "slide"
    }
   },
   "source": [
    "<a id='viz_attr'></a>\n",
    "\n",
    "### Attributes of Good Visualization\n",
    "\n",
    "---\n",
    "\n",
    "What are some attributes you think are important for data visualizations to have? \n",
    "\n",
    "Let's take a look at what Jeffrey Shaffer, who teaches data visualization at the University of Cincinnati, thinks:\n",
    "\n",
    "![](./assets/images/data%20attributes.png)\n",
    "\n",
    "Interestingly, some attributes have more of an effect on our brains than others. The ones we tend to focus on most are position, then color, then size."
   ]
  },
  {
   "cell_type": "markdown",
   "metadata": {
    "slideshow": {
     "slide_type": "slide"
    }
   },
   "source": [
    "Let's take a look at three visualizations. Which one catches your attention most? Why?\n",
    "\n",
    "![](./assets/images/mixed%20shapes.png)\n",
    "\n",
    "![](./assets/images/squares%20and%20circles.png)\n",
    "\n",
    "![](./assets/images/color.png)\n"
   ]
  },
  {
   "cell_type": "markdown",
   "metadata": {
    "slideshow": {
     "slide_type": "slide"
    }
   },
   "source": [
    "Let's focus on color for a moment. Generally, in data visualizations, you’re going to use color in one of three ways: sequential, divergent, or categorical. \n",
    "\n",
    "Sequential colors are used to show values ordered from low to high.\n",
    "\n",
    "**Sequential Palette:**\n",
    "![sequential1](./assets/images/sequential-colors.png)\n",
    "\n",
    "Example:\n",
    "![sequential](./assets/images/sequential.png)"
   ]
  },
  {
   "cell_type": "markdown",
   "metadata": {
    "collapsed": true,
    "slideshow": {
     "slide_type": "slide"
    }
   },
   "source": [
    "Divergent colors are used to show ordered values that have a critical midpoint, like an average or zero.\n",
    "\n",
    "**Diverging Palette:**\n",
    "![divergent](./assets/images/diverging-colors.png)\n",
    "\n",
    "\n",
    "Example (Diverging Colors):\n",
    "\n",
    "![divergent](./assets/images/divergent.png)"
   ]
  },
  {
   "cell_type": "markdown",
   "metadata": {
    "collapsed": true,
    "slideshow": {
     "slide_type": "slide"
    }
   },
   "source": [
    "Categorical colors are used to distinguish data that falls into distinct groups.\n",
    "\n",
    "![categorical](./assets/images/categorical.png)\n",
    "\n",
    "[Images via MediaShift](http://mediashift.org/2016/02/checklist-does-your-data-visualization-say-what-you-think-it-says/)"
   ]
  },
  {
   "cell_type": "markdown",
   "metadata": {
    "slideshow": {
     "slide_type": "slide"
    }
   },
   "source": [
    "<a id='chart_choice'></a>\n",
    "\n",
    "### Choosing the Right Chart\n",
    "\n",
    "---\n",
    "\n",
    "\n",
    "In addition to considering data visualization attributes, you should also carefully choose the type of chart or graph you'll use. Let's look at a few commonly used charts and graphs.\n",
    "\n",
    "![](http://www.comicsenglish.com/wp-content/uploads/2013/06/xkcd-stove_ownership.png)\n"
   ]
  },
  {
   "cell_type": "markdown",
   "metadata": {
    "slideshow": {
     "slide_type": "slide"
    }
   },
   "source": [
    "### Bar Charts\n",
    "\n",
    "Bar charts are one of the most common ways of visualizing data. Why? Because they make it easy to compare information, revealing highs and lows quickly. Bar charts are most effective when you have numerical data that splits neatly into different categories.\n",
    "\n",
    "![](./assets/images/bar%20chart.png)"
   ]
  },
  {
   "cell_type": "markdown",
   "metadata": {
    "slideshow": {
     "slide_type": "slide"
    }
   },
   "source": [
    "### Pie Charts\n",
    "\n",
    "Pie charts are the most commonly misused chart type. They should be only used to show relative proportions or percentages of information. \n",
    "\n",
    "If you want to compare data, leave it to bars or stacked bars. If your viewer has to work to translate pie wedges into relevant data or compare pie charts to one another, the key points you're trying to convey might go unnoticed. \n",
    "\n",
    "![](./assets/images/pie%20chart.jpg)\n",
    "[Pie chart via TV.com](http://www.tv.com/news/learning-about-the-2013-pilot-season-through-pie-charts-136243394841/)"
   ]
  },
  {
   "cell_type": "markdown",
   "metadata": {
    "slideshow": {
     "slide_type": "slide"
    }
   },
   "source": [
    "### The Best Use of a Pie Chart\n",
    "\n",
    "![](http://i.imgur.com/uhTf6Ek.jpg)"
   ]
  },
  {
   "cell_type": "markdown",
   "metadata": {
    "slideshow": {
     "slide_type": "slide"
    }
   },
   "source": [
    "### Scatter Plots\n",
    "\n",
    "Scatter plots are a great way to give you a sense of trends, concentrations, and outliers. This will provide a clear idea of what you may want to investigate further. \n",
    "\n",
    "![](./assets/images/scatter%20plot.png)\n",
    "[Scatter plot via Wikibooks](https://en.wikibooks.org/wiki/Statistics/Displaying_Data/Scatter_Graphs)"
   ]
  },
  {
   "cell_type": "markdown",
   "metadata": {
    "slideshow": {
     "slide_type": "slide"
    }
   },
   "source": [
    "### Histograms \n",
    "\n",
    "Histograms are useful when you want to see how your data are distributed across groups.\n",
    "\n",
    "![](./assets/images/histogram%20chart.png)\n",
    "\n",
    "This is not an all-inclusive list of chart and graph types, but the point is to remember that you have options. You should consider which one is most appropriate for representing a particular data set. \n",
    "\n",
    "[Charts and graphs via Tableau](https://drive.google.com/file/d/0Bx2SHQGVqWasT1l4NWtLclJJcWM/view)"
   ]
  },
  {
   "cell_type": "markdown",
   "metadata": {
    "slideshow": {
     "slide_type": "slide"
    }
   },
   "source": [
    "<a id='visualization_libraries'></a>\n",
    "\n",
    "### Visualization Programming Libraries\n",
    "\n",
    "In this lesson, we will use the Python libraries [Matplotlib](https://matplotlib.org/) (Python plotting) and [Seaborn](https://seaborn.pydata.org/) (statistical data visualization).\n",
    "\n",
    "Many other Python libraries exist for making visualizations. Some of the most popular include:\n",
    "\n",
    "\n",
    "- **[Plotly](https://plotly.com):** Python visualization library that targets the web browser (e.g., in Jupyter). Makes interactive plots, dashboards, data applications, etc. Plotly's Python graphing library makes interactive, publication-quality graphs. \n",
    "\n",
    "- **[Bokeh](http://bokeh.pydata.org/en/latest/):** Python visualization library that targets the web browser (e.g., in Jupyter). Makes interactive plots, dashboards, data applications, etc.\n",
    "\n",
    "- **[Graphviz](http://graphviz.readthedocs.io/en/stable/manual.html):** Popular visualization library for graph data structures (e.g., edges, vertices, etc). Has Python extensions.\n",
    "\n",
    "- **[Basemap](http://matplotlib.org/basemap/):** Python Matplotlib extension for drawing static maps. There are many other Python libraries for plotting geographic data, including ones that might be easier to use, but many are not actively developed.\n",
    "\n",
    "One of the most popular libraries for interactive visualizations in the web browser is D3. Because web browsers only natively run JavaScript, D3 requires knowledge of JavaScript:\n",
    "\n",
    "- **[D3.js](https://d3js.org/):** JavaScript library for interactive web visualizations [D3.js](https://d3js.org/) | [Examples](https://github.com/mbostock/d3/wiki/Gallery)\n"
   ]
  },
  {
   "cell_type": "markdown",
   "metadata": {
    "slideshow": {
     "slide_type": "slide"
    }
   },
   "source": [
    "### Other Visualization Tools\n",
    "\n",
    "Although this course emphasizes a Python approach to data science, a variety of non-programming tools are also used in industry. Often, these tools can be applied much more quickly than creating a custom Python solution. For example:\n",
    "\n",
    "- **Excel:** For quick data cleaning and simple graphs\n",
    "- **Power BI:** A suite of business analytics tools\n",
    "- **Tableau:** Business intelligence and analytics software\n",
    "- **Periscope Data:** Data analysis platform\n",
    "- **Plotly:** Create charts and dashboards\n"
   ]
  },
  {
   "cell_type": "markdown",
   "metadata": {
    "slideshow": {
     "slide_type": "slide"
    }
   },
   "source": [
    "<a id='independent_research'></a>\n",
    "\n",
    "### Independent Research: Python Plotting With Pandas and Seaborn\n",
    "\n",
    "---\n",
    "\n",
    "Open up the [independent research notebook](./practice/python-data-viz-lab.ipynb) to explore plotting the sales data with Python. \n"
   ]
  },
  {
   "cell_type": "markdown",
   "metadata": {
    "slideshow": {
     "slide_type": "slide"
    }
   },
   "source": [
    "<a id='conclusion'></a>\n",
    "\n",
    "### Things to consider\n",
    "\n",
    "---\n",
    "\n",
    "- Why is data visualization so important? \n",
    "- What are some considerations to keep in mind when creating a visualization? \n",
    "- Describe when you would use the following types of charts or graphs:\n",
    "    - Bar chart\n",
    "    - Pie chart\n",
    "    - Scatter plot\n",
    "    - Histogram "
   ]
  },
  {
   "cell_type": "code",
   "execution_count": null,
   "metadata": {},
   "outputs": [],
   "source": []
  }
 ],
 "metadata": {
  "anaconda-cloud": {},
  "kernelspec": {
   "display_name": "Python 3",
   "language": "python",
   "name": "python3"
  },
  "language_info": {
   "codemirror_mode": {
    "name": "ipython",
    "version": 3
   },
   "file_extension": ".py",
   "mimetype": "text/x-python",
   "name": "python",
   "nbconvert_exporter": "python",
   "pygments_lexer": "ipython3",
   "version": "3.7.3"
  },
  "toc": {
   "base_numbering": 1,
   "nav_menu": {},
   "number_sections": true,
   "sideBar": true,
   "skip_h1_title": false,
   "title_cell": "Table of Contents",
   "title_sidebar": "Contents",
   "toc_cell": false,
   "toc_position": {},
   "toc_section_display": true,
   "toc_window_display": false
  }
 },
 "nbformat": 4,
 "nbformat_minor": 1
}
