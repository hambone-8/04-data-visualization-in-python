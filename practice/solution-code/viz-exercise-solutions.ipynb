{
 "cells": [
  {
   "cell_type": "markdown",
   "metadata": {},
   "source": [
    "# Session 5: Pandas & Visualization Exercise\n",
    "_Author: B Rhodes (DC)_\n",
    "\n",
    "\n",
    "Complete the following exercises in class. You will need to use the available documentation for matplotlib and seaborn. For all the tasks below, once you determine the correct method to use you can write it in a cell and then use the `shift-tab` trick to get details on what parameters to set.\n",
    "\n",
    "Documentation can be found at the following sites:\n",
    "\n",
    "- [Matplotlib Documentation](https://matplotlib.org/)\n",
    "    - The [examples gallery](https://matplotlib.org/gallery/index.html) is very helpful. \n",
    "- [Seaborn Documentation](https://seaborn.pydata.org/)\n",
    "    - The [examples gallery](https://seaborn.pydata.org/examples/index.html) is very helpful.\n",
    "\n",
    "Note, most of the matplotlib tasks can be done by referring to the other notebooks in this lesson. The seaborn tasks are not all covered in this lesson and the documentation may be necessary. Although, in most cases you are asked to use a specific seaborn method so you should be able to figure out what needs to be done without referring to the documentation.\n",
    "\n",
    "**```shift-tab``` is your friend.**\n",
    "\n",
    "Also, don't forget to use `;` to supress extraneous output when executing various plot commands.\n",
    "\n"
   ]
  },
  {
   "cell_type": "markdown",
   "metadata": {},
   "source": [
    "##### An example problem\n",
    "Use `.random()` from the `random` module to generate a random number. \n",
    "\n",
    "Now, if you didn't want to first look at the documentation you could simply write the python and use `shift-tab` to inspect the docstring."
   ]
  },
  {
   "cell_type": "code",
   "execution_count": null,
   "metadata": {
    "ExecuteTime": {
     "end_time": "2020-09-28T02:59:58.622959Z",
     "start_time": "2020-09-28T02:59:58.618147Z"
    }
   },
   "outputs": [],
   "source": [
    "#\n",
    "import random\n",
    "\n",
    "# use shift-tab to determine what arguments and parameters you need.\n",
    "random.random()"
   ]
  },
  {
   "cell_type": "markdown",
   "metadata": {},
   "source": [
    "###### 1. import pandas and matplotlib\n",
    "\n",
    "Read all the questions and import all the necessary libraries here.\n",
    "Remember we use the magic ```%inline matplotlib```"
   ]
  },
  {
   "cell_type": "code",
   "execution_count": null,
   "metadata": {
    "ExecuteTime": {
     "end_time": "2020-09-27T05:51:53.275286Z",
     "start_time": "2020-09-27T05:51:50.991672Z"
    }
   },
   "outputs": [],
   "source": [
    "import pandas as pd\n",
    "import numpy as np\n",
    "\n",
    "import matplotlib.pyplot as plt\n",
    "import seaborn as sns\n",
    "\n",
    "%matplotlib inline"
   ]
  },
  {
   "cell_type": "markdown",
   "metadata": {},
   "source": [
    "###### 2. Create a dataframe from the following data set & verify the result. \n",
    "\n",
    "[Auto MPG Dataset](https://code.datasciencedojo.com/datasciencedojo/datasets/raw/master/Auto%20MPG/auto-mpg.data)\n",
    "\n",
    "Use this path: ```'./datasets/autoMPG.csv'```\n",
    "\n",
    "Here is the [data dictionary](https://code.datasciencedojo.com/datasciencedojo/datasets/tree/master/Auto%20MPG).\n",
    "\n",
    "You will need to do some data cleaning to get this data ready to plot. Use the simplest solution you can think of to clean the data. In the end all your data needs to be numerical.\n"
   ]
  },
  {
   "cell_type": "code",
   "execution_count": null,
   "metadata": {
    "ExecuteTime": {
     "end_time": "2020-09-27T05:51:53.307825Z",
     "start_time": "2020-09-27T05:51:53.279861Z"
    }
   },
   "outputs": [],
   "source": [
    "# 2. Answer\n",
    "path = '../datasets/autoMPG.csv'\n",
    "\n",
    "df = pd.read_csv(path)\n",
    "\n",
    "# verify the result\n",
    "df.head()"
   ]
  },
  {
   "cell_type": "markdown",
   "metadata": {},
   "source": [
    "###### 3. Explore the data\n",
    "Use standard methods.\n",
    "\n"
   ]
  },
  {
   "cell_type": "code",
   "execution_count": null,
   "metadata": {
    "ExecuteTime": {
     "end_time": "2020-09-27T05:51:53.322895Z",
     "start_time": "2020-09-27T05:51:53.312182Z"
    },
    "scrolled": false
   },
   "outputs": [],
   "source": [
    "# 3. Answer\n",
    "df.info()"
   ]
  },
  {
   "cell_type": "markdown",
   "metadata": {},
   "source": [
    "Look at all the values for any non-numeric columns. use the pandas attirbute `.values` to look at all the values in a series."
   ]
  },
  {
   "cell_type": "code",
   "execution_count": null,
   "metadata": {
    "ExecuteTime": {
     "end_time": "2020-09-27T05:51:53.335678Z",
     "start_time": "2020-09-27T05:51:53.328031Z"
    }
   },
   "outputs": [],
   "source": [
    "## We can see all the values in a given column\n",
    "# we want to look at horsepower, since it has data type object, which means it contains string data.\n",
    "df['horsepower'].values"
   ]
  },
  {
   "cell_type": "markdown",
   "metadata": {},
   "source": [
    "We need to convert the horsepower column to floats. But the `?` won't convert since it is non-numeric. The simplest thing to do is to drop them since we don't have any knowledge as to what they should be and it doesn't make sense to impute a value.\n"
   ]
  },
  {
   "cell_type": "code",
   "execution_count": null,
   "metadata": {
    "ExecuteTime": {
     "end_time": "2020-09-27T05:51:53.349927Z",
     "start_time": "2020-09-27T05:51:53.339641Z"
    }
   },
   "outputs": [],
   "source": [
    "#create a boolean to flag the rows containing question marks\n",
    "is_question = df['horsepower'] == '?'\n",
    "df[is_question]\n",
    "\n",
    "# create a new dataframe excluding rows containing a question mark.\n",
    "auto_df = df[~is_question].copy(deep=True)\n"
   ]
  },
  {
   "cell_type": "code",
   "execution_count": null,
   "metadata": {
    "ExecuteTime": {
     "end_time": "2020-09-27T05:51:53.371229Z",
     "start_time": "2020-09-27T05:51:53.353709Z"
    },
    "scrolled": true
   },
   "outputs": [],
   "source": [
    "# Check the results\n",
    "auto_df.info()\n",
    "\n",
    "# the result still has horsepower as data type 'object', which means string. \n",
    "# But we can be sure we've removed non-numerical values."
   ]
  },
  {
   "cell_type": "code",
   "execution_count": null,
   "metadata": {
    "ExecuteTime": {
     "end_time": "2020-09-27T05:51:53.384903Z",
     "start_time": "2020-09-27T05:51:53.377332Z"
    }
   },
   "outputs": [],
   "source": [
    "# Convert horsepower to floats\n",
    "auto_df['horsepower'] = auto_df['horsepower'].astype(float)"
   ]
  },
  {
   "cell_type": "markdown",
   "metadata": {},
   "source": [
    "###### 4.  Generate summary statistics on the data set?\n"
   ]
  },
  {
   "cell_type": "code",
   "execution_count": null,
   "metadata": {
    "ExecuteTime": {
     "end_time": "2020-09-27T05:51:53.431369Z",
     "start_time": "2020-09-27T05:51:53.396780Z"
    }
   },
   "outputs": [],
   "source": [
    "# Generate summary stats\n",
    "\n",
    "auto_df.describe()\n"
   ]
  },
  {
   "cell_type": "markdown",
   "metadata": {},
   "source": [
    "###### 5. generate a scatter plot of  displacement vs  horsepower?\n"
   ]
  },
  {
   "cell_type": "code",
   "execution_count": null,
   "metadata": {
    "ExecuteTime": {
     "end_time": "2020-09-27T05:51:53.663313Z",
     "start_time": "2020-09-27T05:51:53.435511Z"
    }
   },
   "outputs": [],
   "source": [
    "# 5. Answer\n",
    "ax = auto_df.plot(kind='scatter', x='displacement', y='horsepower');\n",
    "ax.set_title('Horsepower vs Displacement');"
   ]
  },
  {
   "cell_type": "markdown",
   "metadata": {
    "ExecuteTime": {
     "end_time": "2020-02-12T04:46:07.991733Z",
     "start_time": "2020-02-12T04:46:07.985765Z"
    }
   },
   "source": [
    "###### 6. generate a scatter plot of  displacement vs  horsepower and vary color by mpg for each point?\n",
    "###### Bonus points: use a reverse color gradient\n"
   ]
  },
  {
   "cell_type": "code",
   "execution_count": null,
   "metadata": {
    "ExecuteTime": {
     "end_time": "2020-09-27T05:51:53.955452Z",
     "start_time": "2020-09-27T05:51:53.667067Z"
    }
   },
   "outputs": [],
   "source": [
    "# 6. answer\n",
    "ax = auto_df.plot(kind='scatter', x='displacement', y='horsepower', c='mpg', colormap='Blues_r');\n",
    "ax.set_title('Horsepower vs Displacement, mpg by color');\n",
    "\n"
   ]
  },
  {
   "cell_type": "markdown",
   "metadata": {
    "ExecuteTime": {
     "end_time": "2020-06-29T14:37:49.891815Z",
     "start_time": "2020-06-29T14:37:49.887975Z"
    }
   },
   "source": [
    "###### 7. Use seaborn's lmplot to create a scatterplot of displacement vs  horsepower with a trend line. What does this show?\n"
   ]
  },
  {
   "cell_type": "code",
   "execution_count": null,
   "metadata": {
    "ExecuteTime": {
     "end_time": "2020-09-27T05:51:54.462801Z",
     "start_time": "2020-09-27T05:51:53.968361Z"
    }
   },
   "outputs": [],
   "source": [
    "# 7. answer\n",
    "ax = sns.lmplot(x=\"displacement\",y=\"horsepower\", data=auto_df, fit_reg=True);\n",
    "plt.title('Horsepower vs Displacement with Trend Line');"
   ]
  },
  {
   "cell_type": "markdown",
   "metadata": {},
   "source": [
    "###### 8. Use seaborn to create a lineplot of mpg vs displacement.\n",
    "\n",
    "Use seaborn `.lineplot()` and be sure to give it a title.\n",
    "\n",
    "What does this show? What can you conclude?"
   ]
  },
  {
   "cell_type": "code",
   "execution_count": null,
   "metadata": {
    "ExecuteTime": {
     "end_time": "2020-09-27T05:51:55.295127Z",
     "start_time": "2020-09-27T05:51:54.465830Z"
    },
    "scrolled": true
   },
   "outputs": [],
   "source": [
    "# 8. answer\n",
    "sns.lineplot(x= \"displacement\", y=\"mpg\", data=auto_df);\n",
    "plt.title(\"MPG vs Displacement\");"
   ]
  },
  {
   "cell_type": "markdown",
   "metadata": {},
   "source": [
    "###### 9. Create a barplot of mpg vs model year - use seaborn\n",
    "\n",
    "Use seaborn `.barplot()` and be sure to give it a title."
   ]
  },
  {
   "cell_type": "code",
   "execution_count": null,
   "metadata": {
    "ExecuteTime": {
     "end_time": "2020-09-27T05:51:55.688640Z",
     "start_time": "2020-09-27T05:51:55.298590Z"
    }
   },
   "outputs": [],
   "source": [
    "sns.barplot(x=\"model year\", y=\"mpg\", data=auto_df);\n",
    "plt.title(\"MPG vs model year\");"
   ]
  },
  {
   "cell_type": "markdown",
   "metadata": {},
   "source": [
    "###### 10. Create a scatter plot of mpg vs displacement and use cylinders to set the hue."
   ]
  },
  {
   "cell_type": "code",
   "execution_count": null,
   "metadata": {
    "ExecuteTime": {
     "end_time": "2020-09-27T05:51:55.977406Z",
     "start_time": "2020-09-27T05:51:55.692216Z"
    }
   },
   "outputs": [],
   "source": [
    "sns.scatterplot(x='displacement', y='horsepower', data=auto_df, hue='cylinders'); \n"
   ]
  },
  {
   "cell_type": "markdown",
   "metadata": {},
   "source": [
    "###### 11. Use seaborn `.swarmplot()` to plot a mpg vs year"
   ]
  },
  {
   "cell_type": "code",
   "execution_count": null,
   "metadata": {
    "ExecuteTime": {
     "end_time": "2020-09-27T05:51:56.241323Z",
     "start_time": "2020-09-27T05:51:55.981096Z"
    }
   },
   "outputs": [],
   "source": [
    "sns.swarmplot(x='model year', y='mpg', data=auto_df);\n"
   ]
  },
  {
   "cell_type": "markdown",
   "metadata": {},
   "source": [
    "###### 12. Repeat the last exercise, but add hue coded by cylinders.\n",
    "\n",
    "What does this tell you?"
   ]
  },
  {
   "cell_type": "code",
   "execution_count": null,
   "metadata": {
    "ExecuteTime": {
     "end_time": "2020-09-27T05:51:56.586961Z",
     "start_time": "2020-09-27T05:51:56.248094Z"
    },
    "scrolled": true
   },
   "outputs": [],
   "source": [
    "sns.swarmplot(x='model year', y='mpg', data=auto_df,  hue='cylinders');\n"
   ]
  },
  {
   "cell_type": "markdown",
   "metadata": {},
   "source": [
    "###### 13. Create a seaborn countplot of model year and cylinders.\n",
    "\n",
    "Plot model year using `.countplot()` and set hue=cylinders. What does this tell you about the number of cylinders vs model year?"
   ]
  },
  {
   "cell_type": "code",
   "execution_count": null,
   "metadata": {
    "ExecuteTime": {
     "end_time": "2020-09-27T05:51:57.094901Z",
     "start_time": "2020-09-27T05:51:56.590092Z"
    }
   },
   "outputs": [],
   "source": [
    "sns.countplot(x='model year', hue='cylinders', data=auto_df)"
   ]
  },
  {
   "cell_type": "markdown",
   "metadata": {
    "ExecuteTime": {
     "end_time": "2020-09-27T04:31:14.853743Z",
     "start_time": "2020-09-27T04:31:14.849973Z"
    }
   },
   "source": [
    "###### 14. Create a histogram using seaborn's `.distplot()`\n",
    "\n",
    "Create a histogram of acceleration using seaborn's `'.distplot()`. Use `bins = 10`\n"
   ]
  },
  {
   "cell_type": "code",
   "execution_count": null,
   "metadata": {
    "ExecuteTime": {
     "end_time": "2020-09-27T05:51:57.289636Z",
     "start_time": "2020-09-27T05:51:57.098038Z"
    }
   },
   "outputs": [],
   "source": [
    "sns.distplot(a=auto_df['acceleration'], kde=False, bins=10)\n"
   ]
  },
  {
   "cell_type": "markdown",
   "metadata": {
    "ExecuteTime": {
     "end_time": "2020-09-27T04:32:47.099800Z",
     "start_time": "2020-09-27T04:32:47.085158Z"
    }
   },
   "source": [
    "###### 15. Repeat 11 but add a density plot Create a histogram using seaborn's `.distplot()`\n",
    "\n",
    "Create a histogram of acceleration using seaborn's `'.distplot()` and add a density plot.\n"
   ]
  },
  {
   "cell_type": "code",
   "execution_count": null,
   "metadata": {
    "ExecuteTime": {
     "end_time": "2020-09-27T05:51:57.595349Z",
     "start_time": "2020-09-27T05:51:57.292732Z"
    },
    "scrolled": true
   },
   "outputs": [],
   "source": [
    "sns.distplot(a=auto_df['acceleration'], bins=10, kde=True)\n"
   ]
  },
  {
   "cell_type": "markdown",
   "metadata": {},
   "source": [
    "###### 16. Add mpg to the above plot.\n",
    "\n",
    "You can plot two histograms in the same plot."
   ]
  },
  {
   "cell_type": "code",
   "execution_count": null,
   "metadata": {
    "ExecuteTime": {
     "end_time": "2020-09-27T05:51:57.986855Z",
     "start_time": "2020-09-27T05:51:57.598273Z"
    }
   },
   "outputs": [],
   "source": [
    "sns.distplot(a=auto_df['acceleration'], bins=10, kde=True)\n",
    "sns.distplot(a=auto_df['mpg'], bins=10)"
   ]
  },
  {
   "cell_type": "markdown",
   "metadata": {},
   "source": [
    "###### 17. Create a density plot using seaborn's `.kdeplot()`\n",
    "\n",
    "Create density plots of mpg and acceleration on the same graph. Use the `shade` parameter to fill in under the curves."
   ]
  },
  {
   "cell_type": "code",
   "execution_count": null,
   "metadata": {
    "ExecuteTime": {
     "end_time": "2020-09-27T05:51:58.340998Z",
     "start_time": "2020-09-27T05:51:57.993021Z"
    }
   },
   "outputs": [],
   "source": [
    "sns.kdeplot(data=auto_df['mpg'], shade=True)\n",
    "sns.kdeplot(data=auto_df['acceleration'], shade=True)\n"
   ]
  },
  {
   "cell_type": "markdown",
   "metadata": {},
   "source": [
    "###### 18. Create a seaborn `jointplot` of displacement vs mpg"
   ]
  },
  {
   "cell_type": "code",
   "execution_count": null,
   "metadata": {
    "ExecuteTime": {
     "end_time": "2020-09-27T05:51:58.842227Z",
     "start_time": "2020-09-27T05:51:58.347927Z"
    }
   },
   "outputs": [],
   "source": [
    "sns.jointplot(x=\"displacement\", y=\"mpg\", data=auto_df);\n"
   ]
  },
  {
   "cell_type": "markdown",
   "metadata": {},
   "source": [
    "###### 19. Repeat the above, but change the kind of plot to a density plot.\n",
    "Use seaborn to create a jointplot, but change the kind to a density plot. The command should be the same, but you need to set a new parameter. Use `shift-tab` to figure out which parameter that is."
   ]
  },
  {
   "cell_type": "code",
   "execution_count": null,
   "metadata": {
    "ExecuteTime": {
     "end_time": "2020-09-27T05:52:00.337501Z",
     "start_time": "2020-09-27T05:51:58.851528Z"
    }
   },
   "outputs": [],
   "source": [
    "sns.jointplot(x=\"displacement\", y=\"mpg\", data=auto_df, kind='kde');\n"
   ]
  },
  {
   "cell_type": "markdown",
   "metadata": {},
   "source": [
    "###### 20. Use seaborn to create a boxplot of mpg vs model year "
   ]
  },
  {
   "cell_type": "code",
   "execution_count": null,
   "metadata": {
    "ExecuteTime": {
     "end_time": "2020-09-27T05:52:00.827431Z",
     "start_time": "2020-09-27T05:52:00.342182Z"
    }
   },
   "outputs": [],
   "source": [
    "sns.boxplot(x=\"model year\", y=\"mpg\", data=auto_df);"
   ]
  },
  {
   "cell_type": "markdown",
   "metadata": {},
   "source": [
    "###### 21. Use seaborn to create a correlation heatmap\n",
    "Include the following:\n",
    "\n",
    "1. Use a diverging color map.\n",
    "2. Set the center to zero.\n",
    "3. set linewidths to 0.5\n",
    "4. set square to True\n",
    "5. add numerical values in the squares\n",
    "6. Set the title to 'Correlation Heatmap w/ annotation'"
   ]
  },
  {
   "cell_type": "code",
   "execution_count": null,
   "metadata": {
    "ExecuteTime": {
     "end_time": "2020-09-27T05:52:01.602219Z",
     "start_time": "2020-09-27T05:52:00.829629Z"
    },
    "scrolled": true
   },
   "outputs": [],
   "source": [
    "corr = auto_df.corr()\n",
    "cmap = sns.diverging_palette(230, 20, as_cmap=True)\n",
    "hm = sns.heatmap(corr, cmap=cmap, center=0,\n",
    "            square=True, linewidths=.5, annot=True);\n",
    "\n",
    "hm.set_title('Correlation Heatmap w/annotation');"
   ]
  },
  {
   "cell_type": "markdown",
   "metadata": {},
   "source": [
    "###### 22. BONUS: Create a diagonal heatmap.\n",
    "Repeat the above, but make it a diagonal display.\n",
    "Refer to the seaborn documentation for an example."
   ]
  },
  {
   "cell_type": "code",
   "execution_count": null,
   "metadata": {
    "ExecuteTime": {
     "end_time": "2020-09-27T05:52:02.181249Z",
     "start_time": "2020-09-27T05:52:01.605975Z"
    }
   },
   "outputs": [],
   "source": [
    "# Generate a mask for the upper triangle\n",
    "mask = np.triu(np.ones_like(corr, dtype=bool))\n",
    "\n",
    "# Set up the matplotlib figure\n",
    "f, ax = plt.subplots(figsize=(11, 9))\n",
    "\n",
    "# Generate a custom diverging colormap\n",
    "cmap = sns.diverging_palette(230, 20, as_cmap=True)\n",
    "\n",
    "# Draw the heatmap with the mask and correct aspect ratio\n",
    "hm = sns.heatmap(corr, mask=mask, cmap=cmap, vmax=.3, center=0,\n",
    "            square=True, linewidths=.5, cbar_kws={\"shrink\": .5}, annot=True)\n",
    "\n",
    "hm.set_title('Diagonal Correlation Heatmap w/annotation');"
   ]
  },
  {
   "cell_type": "code",
   "execution_count": null,
   "metadata": {},
   "outputs": [],
   "source": []
  }
 ],
 "metadata": {
  "kernelspec": {
   "display_name": "Python 3",
   "language": "python",
   "name": "python3"
  },
  "language_info": {
   "codemirror_mode": {
    "name": "ipython",
    "version": 3
   },
   "file_extension": ".py",
   "mimetype": "text/x-python",
   "name": "python",
   "nbconvert_exporter": "python",
   "pygments_lexer": "ipython3",
   "version": "3.7.3"
  },
  "toc": {
   "base_numbering": 1,
   "nav_menu": {},
   "number_sections": false,
   "sideBar": true,
   "skip_h1_title": false,
   "title_cell": "Table of Contents",
   "title_sidebar": "Contents",
   "toc_cell": false,
   "toc_position": {},
   "toc_section_display": true,
   "toc_window_display": false
  }
 },
 "nbformat": 4,
 "nbformat_minor": 2
}
