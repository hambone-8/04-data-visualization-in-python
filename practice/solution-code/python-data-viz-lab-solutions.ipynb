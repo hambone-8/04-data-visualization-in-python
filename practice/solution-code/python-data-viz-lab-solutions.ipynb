{
 "cells": [
  {
   "cell_type": "markdown",
   "metadata": {},
   "source": [
    "<img src=\"http://imgur.com/1ZcRyrc.png\" style=\"float: left; margin: 20px; height: 55px\">\n",
    "\n",
    "## Guided Practice: Explore Python Data Visualization\n",
    "\n",
    "_Authors: Alexander Combs (New York City), Dave Yerrington (San Francisco), and Kevin Markham (Washington, D.C.)_, _Updated: B Rhodes (DC)_\n",
    "\n",
    "\n",
    "---\n",
    "\n",
    "In this guided practice lab you will use Pandas, Matplotlib, and Seaborn to create simple plots.\n",
    "\n",
    "We'll cover plotting line plots, scatter plots, bar plots, and histograms, and how to manipulate the style of your plots with Matplotlib."
   ]
  },
  {
   "cell_type": "markdown",
   "metadata": {},
   "source": [
    "## Learning Objectives\n",
    "\n",
    "- **Practice** using different types of plots.\n",
    "- **Use** Pandas methods for plotting.\n",
    "- **Create** line plots, bar plots, histograms, and box plots.\n",
    "- **Know** when to use Seaborn or advanced Matplotlib"
   ]
  },
  {
   "cell_type": "markdown",
   "metadata": {},
   "source": [
    "## Lesson Guide\n",
    "\n",
    "- [Line Plots](#line-plots)\n",
    "- [Bar Plots](#bar-plots)\n",
    "- [Histograms](#histograms)\n",
    "    - [Grouped Histograms](#grouped-histograms)\n",
    "    \n",
    "    \n",
    "- [Box Plots](#box-plots)\n",
    "    - [Grouped Box Plots](#grouped-box-plots)\n",
    "    \n",
    "- [Scatter Plots](#scatter-plots)\n",
    "- [Using Seaborn](#using-seaborn)\n",
    "- [OPTIONAL: Understanding Matplotlib (Figures, Subplots, and Axes)](#matplotlib)\n",
    "- [OPTIONAL: Additional Topics](#additional-topics)\n",
    "\n",
    "- [Summary](#summary)"
   ]
  },
  {
   "cell_type": "markdown",
   "metadata": {},
   "source": [
    "### Introduction\n",
    "\n",
    "In this lab, we will introduce how plotting works in Pandas and Matplotlib. It is important to know that Pandas uses Matplotlib behind the scenes to make plots. So, you will notice that Pandas plotting methods often use similar parameter names as Matplotlib methods. Further, you can use Matplotlib functions in combination with Pandas methods to alter the plots after drawing them. For example, you can use Matplotlib's `xlabel` and `title` functions to label the plot's x-axis and title, respectively, after it is drawn.\n",
    "\n",
    "As we explore different types of plots, notice:\n",
    "\n",
    "1. Different types of plots are drawn very similarly -- they even tend to share parameter names.\n",
    "2. In Pandas, calling `plot()` on a `DataFrame` is different than calling it on a `Series`. Although the methods are both named `plot`, they may take different parameters.\n",
    "\n",
    "Toward the end of the lab, we will show some motivational plots using Seaborn, a popular statistics plotting library, as well as go more in-depth about how Matplotlib works."
   ]
  },
  {
   "cell_type": "markdown",
   "metadata": {},
   "source": [
    "### Pandas Plotting Documentation\n",
    "\n",
    "[Link to Documentation](http://pandas.pydata.org/pandas-docs/stable/generated/pandas.DataFrame.plot.html)"
   ]
  },
  {
   "cell_type": "code",
   "execution_count": null,
   "metadata": {
    "ExecuteTime": {
     "end_time": "2021-06-24T21:06:53.946145Z",
     "start_time": "2021-06-24T21:06:52.176445Z"
    }
   },
   "outputs": [],
   "source": [
    "from IPython.display import HTML\n",
    "\n",
    "import pandas as pd\n",
    "import numpy as np\n",
    "import seaborn as sns\n",
    "import matplotlib.pyplot as plt\n",
    "\n",
    "plt.style.use('fivethirtyeight')\n",
    "%matplotlib inline\n",
    "\n",
    "# Increase default figure and font sizes for easier viewing.\n",
    "plt.rcParams['figure.figsize'] = (8, 6)\n",
    "plt.rcParams['font.size'] = 14"
   ]
  },
  {
   "cell_type": "markdown",
   "metadata": {},
   "source": [
    "### Create fake data for examples."
   ]
  },
  {
   "cell_type": "code",
   "execution_count": null,
   "metadata": {
    "ExecuteTime": {
     "end_time": "2021-06-24T21:06:53.973209Z",
     "start_time": "2021-06-24T21:06:53.948123Z"
    }
   },
   "outputs": [],
   "source": [
    "df = pd.DataFrame(np.random.randn(10, 4), \n",
    "                  columns=['col1', 'col2', 'col3', 'col4'],\n",
    "                  index=['a', 'b', 'c', 'd', 'e', 'f', 'g', 'h', 'i', 'j'])\n",
    "\n",
    "df"
   ]
  },
  {
   "cell_type": "markdown",
   "metadata": {},
   "source": [
    "### Choosing the right type of visualization\n",
    "\n",
    "The choice of visualization should depend what you are trying to show. Here is a helpful flowchart that you can use to determine the best type of visualizations.\n",
    "\n",
    "![Chart Suggestions](../../assets/images/chart_suggestions.png)"
   ]
  },
  {
   "cell_type": "markdown",
   "metadata": {},
   "source": [
    "### Load in data sets for visualization examples.\n",
    "\n",
    "The Boston data dictionary can be found [here](https://archive.ics.uci.edu/ml/machine-learning-databases/housing/housing.names). \n",
    "\n",
    "The Cleveland heart data dictionary can be found [here](https://archive.ics.uci.edu/ml/datasets/Heart+Disease)."
   ]
  },
  {
   "cell_type": "code",
   "execution_count": null,
   "metadata": {
    "ExecuteTime": {
     "end_time": "2021-06-24T21:07:02.070957Z",
     "start_time": "2021-06-24T21:06:54.615739Z"
    }
   },
   "outputs": [],
   "source": [
    "\n",
    "# Read in the drinks data.\n",
    "drink_cols = ['country', 'beer', 'spirit', 'wine', 'liters', 'continent']\n",
    "drink_path = '../../datasets/drinks.csv'\n",
    "drinks = pd.read_csv(drink_path, header=0, names=drink_cols, na_filter=False)\n",
    "\n",
    "# Read in the ufo data.\n",
    "ufo_path = '../../datasets/ufo.csv'\n",
    "ufo = pd.read_csv(ufo_path)\n",
    "ufo['Time'] = pd.to_datetime(ufo.Time)\n",
    "ufo['Year'] = ufo.Time.dt.year\n",
    "\n",
    "# Read in the Cleveland heart data.\n",
    "heart_path = '../../datasets/cleveland_heart_data.csv'\n",
    "heart_df = pd.read_csv(heart_path)\n",
    "\n",
    "# Read in the Boston housing data.\n",
    "housing_path = '../../datasets/boston_housing_data.csv'\n",
    "housing = pd.read_csv(housing_path)\n"
   ]
  },
  {
   "cell_type": "markdown",
   "metadata": {},
   "source": [
    "<a id=\"line-plots\"></a>\n",
    "## Line plots, bar plots & histograms: \n",
    "\n",
    "---\n",
    "\n",
    "Line plots show the trend of a numerical variable over time\n",
    "\n",
    "- **Objective:** **Use** Pandas methods for plotting.\n",
    "- **Objective:** **Create** line plots, bar plots, and histograms."
   ]
  },
  {
   "cell_type": "code",
   "execution_count": null,
   "metadata": {
    "ExecuteTime": {
     "end_time": "2021-06-24T21:07:02.083264Z",
     "start_time": "2021-06-24T21:07:02.072879Z"
    }
   },
   "outputs": [],
   "source": [
    "# Count the number of ufo reports each year (and sort by year).\n",
    "ufo.Year.value_counts().sort_index()"
   ]
  },
  {
   "cell_type": "code",
   "execution_count": null,
   "metadata": {
    "ExecuteTime": {
     "end_time": "2021-06-24T21:07:02.281579Z",
     "start_time": "2021-06-24T21:07:02.088696Z"
    }
   },
   "outputs": [],
   "source": [
    "# Compare with line plot -- UFO sightings by year. (Ordering by year makes sense.)\n",
    "ufo.Year.value_counts().sort_index().plot();"
   ]
  },
  {
   "cell_type": "code",
   "execution_count": null,
   "metadata": {
    "ExecuteTime": {
     "end_time": "2021-06-24T21:07:02.454979Z",
     "start_time": "2021-06-24T21:07:02.288428Z"
    }
   },
   "outputs": [],
   "source": [
    "# COMMON MISTAKE: Don't use a line plot when the x-axis cannot be ordered sensically!\n",
    "\n",
    "# For example, ordering by continent below shows a trend where no exists ... \n",
    "#    it would be just as valid to plot the continents in any order.\n",
    "\n",
    "# So, a line plot is the wrong type of plot for this data.\n",
    "# Always think about what you're plotting and if it makes sense.\n",
    "\n",
    "drinks.continent.value_counts().plot();"
   ]
  },
  {
   "cell_type": "markdown",
   "metadata": {},
   "source": [
    "**Important:** A line plot is the wrong type of plot for this data. Any set of countries can be rearranged misleadingly to illustrate a negative trend, as we did here. Due to this, it would be more appropriate to represent this data using a bar plot, which does not imply a trend based on order."
   ]
  },
  {
   "cell_type": "code",
   "execution_count": null,
   "metadata": {
    "ExecuteTime": {
     "end_time": "2021-06-24T21:07:02.653018Z",
     "start_time": "2021-06-24T21:07:02.458663Z"
    },
    "scrolled": true
   },
   "outputs": [],
   "source": [
    "# Plot the same data as a (horizontal) bar plot -- a much better choice!\n",
    "drinks.continent.value_counts().plot(kind='barh');"
   ]
  },
  {
   "cell_type": "markdown",
   "metadata": {},
   "source": [
    "### Exercise: Plot ```diag``` in the Heart data\n",
    "Plot the ```diag``` column using a bar chart."
   ]
  },
  {
   "cell_type": "code",
   "execution_count": null,
   "metadata": {
    "ExecuteTime": {
     "end_time": "2021-06-24T21:07:02.854860Z",
     "start_time": "2021-06-24T21:07:02.659975Z"
    }
   },
   "outputs": [],
   "source": [
    "# Plot the diag column on a (vertical) bar chart\n",
    "heart_df['diag'].value_counts().plot(kind='bar')"
   ]
  },
  {
   "cell_type": "markdown",
   "metadata": {},
   "source": [
    "### Line Plot With a `DataFrame`"
   ]
  },
  {
   "cell_type": "code",
   "execution_count": null,
   "metadata": {
    "ExecuteTime": {
     "end_time": "2021-06-24T21:07:03.074111Z",
     "start_time": "2021-06-24T21:07:02.859878Z"
    }
   },
   "outputs": [],
   "source": [
    "df.plot();"
   ]
  },
  {
   "cell_type": "markdown",
   "metadata": {},
   "source": [
    "### How to change the size of a plot"
   ]
  },
  {
   "cell_type": "code",
   "execution_count": null,
   "metadata": {
    "ExecuteTime": {
     "end_time": "2021-06-24T21:30:10.911534Z",
     "start_time": "2021-06-24T21:30:10.525980Z"
    }
   },
   "outputs": [],
   "source": [
    "# Technically the figsize is 15 \"inches\" (width) by 8 \"inches\" (height)\n",
    "#   The figure is specified in inches for printing -- you set a dpi (dots/pixels per inch) elsewhere\n",
    "df.plot(figsize=(15,8)); # width, height"
   ]
  },
  {
   "cell_type": "markdown",
   "metadata": {},
   "source": [
    "### How to change the color of a plot"
   ]
  },
  {
   "cell_type": "code",
   "execution_count": null,
   "metadata": {
    "ExecuteTime": {
     "end_time": "2021-06-24T21:30:12.711408Z",
     "start_time": "2021-06-24T21:30:12.441380Z"
    }
   },
   "outputs": [],
   "source": [
    "df['col1'].plot(color='crimson', figsize=(16,8));"
   ]
  },
  {
   "cell_type": "markdown",
   "metadata": {},
   "source": [
    "### How to change the style of individual lines"
   ]
  },
  {
   "cell_type": "code",
   "execution_count": null,
   "metadata": {
    "ExecuteTime": {
     "end_time": "2021-06-24T21:30:13.746217Z",
     "start_time": "2021-06-24T21:30:13.436143Z"
    }
   },
   "outputs": [],
   "source": [
    "# : - dotted line, v - triangle_down\n",
    "# r - red, b - blue\n",
    "df[['col1', 'col4']].plot(figsize=(15,7), style={'col1': ':r', 'col4': 'vb'});"
   ]
  },
  {
   "cell_type": "markdown",
   "metadata": {},
   "source": [
    "### Challenge: Create a line plot of `chol` and `thalach` in the heart data. \n",
    "\n",
    "- Verify the column names. There is a minor discrepancy that needs to be corrected.\n",
    "- For `chol`, use a solid green line. For `thalach`, use a blue dashed line.\n",
    "- Change the figure size to a width of 12 and height of 8.\n",
    "- Change the style sheet (use: ```plt.style.use('STYLE NAME HERE')```\n",
    "to something you find [here](https://tonysyu.github.io/raw_content/matplotlib-style-gallery/gallery.html).\n"
   ]
  },
  {
   "cell_type": "markdown",
   "metadata": {},
   "source": [
    "#### Clean up the headers (i.e. column names)\n",
    "We need to take a look at the column names in the heart data. This is a common task as part of data cleaning."
   ]
  },
  {
   "cell_type": "code",
   "execution_count": null,
   "metadata": {
    "ExecuteTime": {
     "end_time": "2021-06-24T21:30:23.750374Z",
     "start_time": "2021-06-24T21:30:23.744384Z"
    }
   },
   "outputs": [],
   "source": [
    "# Look at the headers for the heart data.\n",
    "# What discrepancies do you see?\n",
    "# How would you fix them?\n",
    "\n",
    "#display the column names\n",
    "heart_df.columns"
   ]
  },
  {
   "cell_type": "code",
   "execution_count": null,
   "metadata": {
    "ExecuteTime": {
     "end_time": "2021-06-24T21:30:24.323684Z",
     "start_time": "2021-06-24T21:30:24.298667Z"
    }
   },
   "outputs": [],
   "source": [
    "# How would you fix it?\n",
    "heart_df.columns = [col.strip() for col in heart_df.columns]\n",
    "\n",
    "# Verify the fix\n",
    "heart_df.columns"
   ]
  },
  {
   "cell_type": "markdown",
   "metadata": {},
   "source": [
    "#### Change Styles#### Change Styles"
   ]
  },
  {
   "cell_type": "code",
   "execution_count": null,
   "metadata": {
    "ExecuteTime": {
     "end_time": "2021-06-24T21:30:28.662957Z",
     "start_time": "2021-06-24T21:30:28.319914Z"
    },
    "scrolled": true
   },
   "outputs": [],
   "source": [
    "#Change the style sheet\n",
    "\n",
    "#A:\n",
    "plt.style.use('classic')\n",
    "\n",
    "# We can define styles as a list or dictionary\n",
    "# as a list, order matters. For the dictionary it doesn't.\n",
    "\n",
    "# use a list\n",
    "styles = ['g-','b--']\n",
    "\n",
    "# or use a dictionary\n",
    "style_dict = {'thalach': 'g-', 'chol': 'b--'}\n",
    "\n",
    "col_list = ['chol', 'thalach']\n",
    "\n",
    "heart_df[col_list].plot(figsize=(10,8), style=styles)\n",
    "#heart_df[mylist].plot(figsize=(10,8), style=style_dict)"
   ]
  },
  {
   "cell_type": "code",
   "execution_count": null,
   "metadata": {
    "ExecuteTime": {
     "end_time": "2021-06-24T21:30:41.715464Z",
     "start_time": "2021-06-24T21:30:41.710781Z"
    }
   },
   "outputs": [],
   "source": [
    "# Change the plot style back to fivethirtyeight\n",
    "plt.style.use('fivethirtyeight')\n"
   ]
  },
  {
   "cell_type": "markdown",
   "metadata": {},
   "source": [
    "<a id=\"bar-plots\"></a>\n",
    "## Bar Plots: Show a numerical comparison across different categories\n",
    "---"
   ]
  },
  {
   "cell_type": "code",
   "execution_count": null,
   "metadata": {
    "ExecuteTime": {
     "end_time": "2021-06-24T21:30:42.975554Z",
     "start_time": "2021-06-24T21:30:42.954979Z"
    }
   },
   "outputs": [],
   "source": [
    "# Count the number of countries in each continent.\n",
    "drinks.continent.value_counts()"
   ]
  },
  {
   "cell_type": "code",
   "execution_count": null,
   "metadata": {
    "ExecuteTime": {
     "end_time": "2021-06-24T21:30:45.697603Z",
     "start_time": "2021-06-24T21:30:45.454218Z"
    }
   },
   "outputs": [],
   "source": [
    "# Compare with bar plot.\n",
    "drinks.continent.value_counts().plot(kind='bar');"
   ]
  },
  {
   "cell_type": "code",
   "execution_count": null,
   "metadata": {
    "ExecuteTime": {
     "end_time": "2021-06-24T21:30:45.991292Z",
     "start_time": "2021-06-24T21:30:45.969062Z"
    }
   },
   "outputs": [],
   "source": [
    "# Calculate the mean alcohol amounts for each continent.\n",
    "drinks.groupby('continent').mean()"
   ]
  },
  {
   "cell_type": "code",
   "execution_count": null,
   "metadata": {
    "ExecuteTime": {
     "end_time": "2021-06-24T21:30:47.098577Z",
     "start_time": "2021-06-24T21:30:46.620656Z"
    },
    "scrolled": true
   },
   "outputs": [],
   "source": [
    "# Side-by-side bar plots\n",
    "drinks.groupby('continent').mean().plot(kind='bar');"
   ]
  },
  {
   "cell_type": "code",
   "execution_count": null,
   "metadata": {
    "ExecuteTime": {
     "end_time": "2021-06-24T21:30:47.830659Z",
     "start_time": "2021-06-24T21:30:47.116096Z"
    }
   },
   "outputs": [],
   "source": [
    "# Sort the continent x-axis by a particular column.\n",
    "drinks.groupby('continent').mean().sort_values('beer').plot(kind='bar');"
   ]
  },
  {
   "cell_type": "code",
   "execution_count": null,
   "metadata": {
    "ExecuteTime": {
     "end_time": "2021-06-24T21:30:48.483743Z",
     "start_time": "2021-06-24T21:30:47.854432Z"
    },
    "scrolled": true
   },
   "outputs": [],
   "source": [
    "# Stacked bar plot (with the liters comparison removed!)\n",
    "drinks.groupby('continent').mean().drop('liters', axis=1).plot(kind='bar', stacked=True);"
   ]
  },
  {
   "cell_type": "markdown",
   "metadata": {},
   "source": [
    "#### Exercise: Plot the heart data grouped by ```diag```\n",
    "1. Plot a subset of the heart data grouped by the ```diag``` column.\n",
    "2. Do the same plot, but sort by ```'thalach'``` column.\n",
    "\n",
    "You only need to use the following columns of the heart data set.\n",
    "\n",
    "```'chol','thalach', 'trestbps', 'diag'```"
   ]
  },
  {
   "cell_type": "code",
   "execution_count": null,
   "metadata": {
    "ExecuteTime": {
     "end_time": "2021-06-24T21:30:49.122275Z",
     "start_time": "2021-06-24T21:30:48.598747Z"
    },
    "scrolled": true
   },
   "outputs": [],
   "source": [
    "cols = ['chol','thalach', 'trestbps', 'diag']\n",
    "\n",
    "heart_df[ cols ].groupby('diag').mean().plot(kind='bar', figsize=(5,4));\n"
   ]
  },
  {
   "cell_type": "code",
   "execution_count": null,
   "metadata": {
    "ExecuteTime": {
     "end_time": "2021-06-24T21:30:50.694626Z",
     "start_time": "2021-06-24T21:30:50.382265Z"
    }
   },
   "outputs": [],
   "source": [
    "heart_df[cols].groupby('diag').mean().sort_values('thalach').plot(kind='bar')"
   ]
  },
  {
   "cell_type": "markdown",
   "metadata": {},
   "source": [
    "### Using a `DataFrame` and Matplotlib commands, we can get fancy."
   ]
  },
  {
   "cell_type": "code",
   "execution_count": null,
   "metadata": {
    "ExecuteTime": {
     "end_time": "2021-06-24T21:30:54.655427Z",
     "start_time": "2021-06-24T21:30:54.279685Z"
    }
   },
   "outputs": [],
   "source": [
    "ax = df.plot(kind='bar', figsize=(15,3));\n",
    "\n",
    "# Set the title.\n",
    "ax.set_title('Some Kinda Plot Thingy', fontsize=21, y=1.01);\n",
    "\n",
    "# Move the legend.\n",
    "ax.legend(loc=1);\n",
    "\n",
    "# x-axis labels\n",
    "ax.set_ylabel('Important y-axis info', fontsize=16);\n",
    "\n",
    "# y-axis labels\n",
    "ax.set_xlabel('Meaningless x-axis info', fontsize=16);"
   ]
  },
  {
   "cell_type": "markdown",
   "metadata": {},
   "source": [
    "### Challenge: Create a bar chart using `col1` and `col2`.\n",
    "\n",
    "- Give the plot a large title of your choosing. \n",
    "- Move the legend to the lower-left corner."
   ]
  },
  {
   "cell_type": "code",
   "execution_count": null,
   "metadata": {
    "ExecuteTime": {
     "end_time": "2020-09-30T05:42:19.642663Z",
     "start_time": "2020-09-30T05:42:19.395773Z"
    }
   },
   "outputs": [],
   "source": [
    "cols = ['col1','col2']\n",
    "\n",
    "ax = df[cols].plot(kind='bar', figsize=(16,8));\n",
    "ax.set_title('Something Important', fontsize=22);\n",
    "ax.legend(loc=3);\n",
    "plt.xticks(rotation=90);"
   ]
  },
  {
   "cell_type": "markdown",
   "metadata": {},
   "source": [
    "- Do the same thing but with horizontal bars.\n",
    "- Move the legend to the upper-right corner."
   ]
  },
  {
   "cell_type": "code",
   "execution_count": null,
   "metadata": {
    "ExecuteTime": {
     "end_time": "2020-09-30T05:42:19.903662Z",
     "start_time": "2020-09-30T05:42:19.646693Z"
    }
   },
   "outputs": [],
   "source": [
    "ax = df[cols].plot(kind='barh', figsize=(16,8));\n",
    "ax.set_title('Something Important', fontsize=22);\n",
    "ax.legend(loc=1);"
   ]
  },
  {
   "cell_type": "markdown",
   "metadata": {},
   "source": [
    "### Stacked works on horizontal bar charts."
   ]
  },
  {
   "cell_type": "code",
   "execution_count": null,
   "metadata": {
    "ExecuteTime": {
     "end_time": "2020-09-30T05:42:20.210436Z",
     "start_time": "2020-09-30T05:42:19.907547Z"
    }
   },
   "outputs": [],
   "source": [
    "df.plot(kind='barh', stacked=True, figsize=(16,8));"
   ]
  },
  {
   "cell_type": "markdown",
   "metadata": {},
   "source": [
    "<a id=\"histograms\"></a>\n",
    "## Histograms: Show the distribution of a numerical variable\n",
    "---\n"
   ]
  },
  {
   "cell_type": "code",
   "execution_count": null,
   "metadata": {
    "ExecuteTime": {
     "end_time": "2020-09-30T05:42:20.219917Z",
     "start_time": "2020-09-30T05:42:20.213237Z"
    }
   },
   "outputs": [],
   "source": [
    "# Sort the beer column and mentally split it into three groups.\n",
    "drinks.beer.sort_values().values"
   ]
  },
  {
   "cell_type": "code",
   "execution_count": null,
   "metadata": {
    "ExecuteTime": {
     "end_time": "2020-09-30T05:42:20.375596Z",
     "start_time": "2020-09-30T05:42:20.221764Z"
    }
   },
   "outputs": [],
   "source": [
    "# Compare the above with histogram.\n",
    "# About how many of the points above are in the groups 1-125, 125-250, and 250-376?\n",
    "drinks.beer.plot(kind='hist', bins=3);"
   ]
  },
  {
   "cell_type": "code",
   "execution_count": null,
   "metadata": {
    "ExecuteTime": {
     "end_time": "2020-09-30T05:42:20.602664Z",
     "start_time": "2020-09-30T05:42:20.377915Z"
    }
   },
   "outputs": [],
   "source": [
    "# Try more bins — it takes the range of the data and divides it into 20 evenly spaced bins.\n",
    "drinks.beer.plot(kind='hist', bins=20);\n",
    "plt.xlabel('Beer Servings');\n",
    "plt.ylabel('Frequency');"
   ]
  },
  {
   "cell_type": "code",
   "execution_count": null,
   "metadata": {
    "ExecuteTime": {
     "end_time": "2020-09-30T05:42:20.753378Z",
     "start_time": "2020-09-30T05:42:20.604900Z"
    }
   },
   "outputs": [],
   "source": [
    "# Compare with density plot (smooth version of a histogram).\n",
    "drinks.beer.plot(kind='density', xlim=(0, 500));"
   ]
  },
  {
   "cell_type": "code",
   "execution_count": null,
   "metadata": {
    "ExecuteTime": {
     "end_time": "2020-09-30T05:42:21.222890Z",
     "start_time": "2020-09-30T05:42:20.756554Z"
    }
   },
   "outputs": [],
   "source": [
    "# Making histograms of DataFrames — histogram of random data\n",
    "df.hist(figsize=(16,8));"
   ]
  },
  {
   "cell_type": "markdown",
   "metadata": {},
   "source": [
    "### Single Histogram"
   ]
  },
  {
   "cell_type": "code",
   "execution_count": null,
   "metadata": {
    "ExecuteTime": {
     "end_time": "2020-09-30T05:42:21.231366Z",
     "start_time": "2020-09-30T05:42:21.226540Z"
    }
   },
   "outputs": [],
   "source": [
    "norm = np.random.standard_normal(5000)"
   ]
  },
  {
   "cell_type": "code",
   "execution_count": null,
   "metadata": {
    "ExecuteTime": {
     "end_time": "2020-09-30T05:42:21.460540Z",
     "start_time": "2020-09-30T05:42:21.234571Z"
    }
   },
   "outputs": [],
   "source": [
    "pd.Series(norm).hist(figsize=(16,4), bins=50);"
   ]
  },
  {
   "cell_type": "markdown",
   "metadata": {},
   "source": [
    "### Another bins example: Sometimes the binning makes the data look different or misleading."
   ]
  },
  {
   "cell_type": "code",
   "execution_count": null,
   "metadata": {
    "ExecuteTime": {
     "end_time": "2020-09-30T05:42:21.646977Z",
     "start_time": "2020-09-30T05:42:21.462892Z"
    }
   },
   "outputs": [],
   "source": [
    "pd.Series(norm).hist(figsize=(16,4), bins=20);"
   ]
  },
  {
   "cell_type": "markdown",
   "metadata": {},
   "source": [
    "### Exercise: Using Pandas create a histogram for `chol` in the heart data.\n",
    "- Set the bins to 20.\n",
    "- Create an appropriate title for the plot.\n",
    "- Label the x & y axes appropriately."
   ]
  },
  {
   "cell_type": "code",
   "execution_count": null,
   "metadata": {
    "ExecuteTime": {
     "end_time": "2020-09-30T05:42:21.807863Z",
     "start_time": "2020-09-30T05:42:21.649325Z"
    }
   },
   "outputs": [],
   "source": [
    "# Reminder: Overall histogram of cholesterol\n",
    "ax = heart_df['chol'].hist(bins=20)\n",
    "ax.set_title('Distribution Cholesterol Levels');\n",
    "plt.xlabel('Cholesterol Level');\n",
    "plt.ylabel('Count');"
   ]
  },
  {
   "cell_type": "markdown",
   "metadata": {},
   "source": [
    "<a id=\"grouped-histograms\"></a>\n",
    "### Grouped histograms: Show one histogram for each group."
   ]
  },
  {
   "cell_type": "code",
   "execution_count": null,
   "metadata": {
    "ExecuteTime": {
     "end_time": "2020-09-30T05:42:22.313344Z",
     "start_time": "2020-09-30T05:42:21.809788Z"
    }
   },
   "outputs": [],
   "source": [
    "heart_df.hist(column='chol', by='diag');\n"
   ]
  },
  {
   "cell_type": "code",
   "execution_count": null,
   "metadata": {
    "ExecuteTime": {
     "end_time": "2020-09-30T05:42:22.895947Z",
     "start_time": "2020-09-30T05:42:22.315936Z"
    }
   },
   "outputs": [],
   "source": [
    "# Share the x- and y-axes.\n",
    "heart_df.hist(column='chol', by='diag', sharex=True, sharey=True, layout=(2, 3));"
   ]
  },
  {
   "cell_type": "markdown",
   "metadata": {},
   "source": [
    "<a id=\"box-plots\"></a>\n",
    "## Box Plots: Show quartiles (and outliers) for one or more numerical variables\n",
    "---\n",
    "\n",
    "We can use boxplots to quickly summarize distributions.\n",
    "\n",
    "**Five-number summary:**\n",
    "\n",
    "- min = minimum value\n",
    "- 25% = first quartile (Q1) = median of the lower half of the data\n",
    "- 50% = second quartile (Q2) = median of the data\n",
    "- 75% = third quartile (Q3) = median of the upper half of the data\n",
    "- max = maximum value\n",
    "\n",
    "(It's more useful than mean and standard deviation for describing skewed distributions.)\n",
    "\n",
    "**Interquartile Range (IQR)** = Q3 - Q1\n",
    "\n",
    "**Outliers:**\n",
    "\n",
    "- below Q1 - 1.5 * IQR\n",
    "- above Q3 + 1.5 * IQR\n",
    "\n",
    "You can see more on how to read a boxplot [here](https://www.mathbootcamps.com/how-to-read-a-boxplot/)."
   ]
  },
  {
   "cell_type": "code",
   "execution_count": null,
   "metadata": {
    "ExecuteTime": {
     "end_time": "2020-09-30T05:42:23.061270Z",
     "start_time": "2020-09-30T05:42:22.898218Z"
    }
   },
   "outputs": [],
   "source": [
    "df.boxplot();"
   ]
  },
  {
   "cell_type": "markdown",
   "metadata": {},
   "source": [
    "### Let's see how box plots are generated so we can best interpret them."
   ]
  },
  {
   "cell_type": "code",
   "execution_count": null,
   "metadata": {
    "ExecuteTime": {
     "end_time": "2020-09-30T05:42:23.071621Z",
     "start_time": "2020-09-30T05:42:23.063739Z"
    }
   },
   "outputs": [],
   "source": [
    "# Sort the spirit column.\n",
    "drinks.spirit.sort_values().values"
   ]
  },
  {
   "cell_type": "code",
   "execution_count": null,
   "metadata": {
    "ExecuteTime": {
     "end_time": "2020-09-30T05:42:23.082745Z",
     "start_time": "2020-09-30T05:42:23.073900Z"
    }
   },
   "outputs": [],
   "source": [
    "# Show \"five-number summary\" for spirit.\n",
    "drinks.spirit.describe()"
   ]
  },
  {
   "cell_type": "code",
   "execution_count": null,
   "metadata": {
    "ExecuteTime": {
     "end_time": "2020-09-30T05:42:23.222801Z",
     "start_time": "2020-09-30T05:42:23.085413Z"
    }
   },
   "outputs": [],
   "source": [
    "# Compare with box plot.\n",
    "drinks.spirit.plot(kind='box');"
   ]
  },
  {
   "cell_type": "code",
   "execution_count": null,
   "metadata": {
    "ExecuteTime": {
     "end_time": "2020-09-30T05:42:23.388842Z",
     "start_time": "2020-09-30T05:42:23.225698Z"
    }
   },
   "outputs": [],
   "source": [
    "# Include multiple variables.\n",
    "drinks.drop('liters', axis=1).plot(kind='box');"
   ]
  },
  {
   "cell_type": "markdown",
   "metadata": {},
   "source": [
    "### How to use a box plot to preview the distributions in the heart data"
   ]
  },
  {
   "cell_type": "code",
   "execution_count": null,
   "metadata": {
    "ExecuteTime": {
     "end_time": "2020-09-30T05:42:23.682314Z",
     "start_time": "2020-09-30T05:42:23.390900Z"
    }
   },
   "outputs": [],
   "source": [
    "heart_df.boxplot();"
   ]
  },
  {
   "cell_type": "markdown",
   "metadata": {},
   "source": [
    "<a id=\"grouped-box-plots\"></a>\n",
    "### Grouped box plots: Show one box plot for each group."
   ]
  },
  {
   "cell_type": "code",
   "execution_count": null,
   "metadata": {
    "ExecuteTime": {
     "end_time": "2020-09-30T05:42:23.794420Z",
     "start_time": "2020-09-30T05:42:23.686965Z"
    }
   },
   "outputs": [],
   "source": [
    "# Reminder: box plot of cholesterol levels\n",
    "heart_df.chol.plot(kind='box');"
   ]
  },
  {
   "cell_type": "code",
   "execution_count": null,
   "metadata": {
    "ExecuteTime": {
     "end_time": "2020-09-30T05:42:23.977806Z",
     "start_time": "2020-09-30T05:42:23.797445Z"
    },
    "scrolled": false
   },
   "outputs": [],
   "source": [
    "# Box plot of beer servings grouped by continent\n",
    "#drinks.boxplot(column='beer', by='continent');\n",
    "heart_df.boxplot(column='chol', by='diag');"
   ]
  },
  {
   "cell_type": "markdown",
   "metadata": {},
   "source": [
    "##### Exercise: Make a box plot for heart data grouped by ```diag```\n",
    "\n",
    "1. Make a box plot for the features ```'chol', 'thalach', 'trestbps'``` grouped by ```diag```"
   ]
  },
  {
   "cell_type": "code",
   "execution_count": null,
   "metadata": {
    "ExecuteTime": {
     "end_time": "2020-09-30T05:42:24.608842Z",
     "start_time": "2020-09-30T05:42:23.980692Z"
    }
   },
   "outputs": [],
   "source": [
    "# Box plot of select numeric columns grouped by diag\n",
    "heart_df[['chol', 'thalach', 'trestbps', 'diag']].boxplot(by='diag');\n"
   ]
  },
  {
   "cell_type": "markdown",
   "metadata": {},
   "source": [
    "<a id=\"scatter-plots\"></a>\n",
    "## Scatter plots: Show the relationship between two numerical variables\n",
    "---\n"
   ]
  },
  {
   "cell_type": "code",
   "execution_count": null,
   "metadata": {
    "ExecuteTime": {
     "end_time": "2020-09-30T05:42:24.627557Z",
     "start_time": "2020-09-30T05:42:24.613779Z"
    }
   },
   "outputs": [],
   "source": [
    "# Select the beer and wine columns and sort by beer.\n",
    "drinks[['beer', 'wine']].sort_values('beer')"
   ]
  },
  {
   "cell_type": "code",
   "execution_count": null,
   "metadata": {
    "ExecuteTime": {
     "end_time": "2020-09-30T05:42:24.801543Z",
     "start_time": "2020-09-30T05:42:24.633371Z"
    }
   },
   "outputs": [],
   "source": [
    "# Compare with scatter plot.\n",
    "drinks.plot(kind='scatter', x='beer', y='wine');"
   ]
  },
  {
   "cell_type": "code",
   "execution_count": null,
   "metadata": {
    "ExecuteTime": {
     "end_time": "2020-09-30T05:42:24.994147Z",
     "start_time": "2020-09-30T05:42:24.803899Z"
    }
   },
   "outputs": [],
   "source": [
    "# Add transparency (great for plotting several graphs on top of each other, or for illustrating density!).\n",
    "drinks.plot(kind='scatter', x='beer', y='wine', alpha=0.3);"
   ]
  },
  {
   "cell_type": "code",
   "execution_count": null,
   "metadata": {
    "ExecuteTime": {
     "end_time": "2020-09-30T05:42:25.337044Z",
     "start_time": "2020-09-30T05:42:24.999814Z"
    }
   },
   "outputs": [],
   "source": [
    "# Vary point color by spirit servings.\n",
    "drinks.plot(kind='scatter', x='beer', y='wine', c='spirit', colormap='Blues');"
   ]
  },
  {
   "cell_type": "code",
   "execution_count": null,
   "metadata": {
    "ExecuteTime": {
     "end_time": "2020-09-30T05:42:25.919088Z",
     "start_time": "2020-09-30T05:42:25.343478Z"
    },
    "scrolled": false
   },
   "outputs": [],
   "source": [
    "# Scatter matrix of three numerical columns\n",
    "pd.plotting.scatter_matrix(drinks[['beer', 'spirit', 'wine']], figsize=(10, 8));"
   ]
  },
  {
   "cell_type": "markdown",
   "metadata": {},
   "source": [
    "##### Exercise: create a scatter matrix for the heart data.\n",
    "\n",
    "1. using pandas create a scatter plot for the following features ```'chol', 'thalach', 'trestbps'```"
   ]
  },
  {
   "cell_type": "code",
   "execution_count": null,
   "metadata": {
    "ExecuteTime": {
     "end_time": "2020-09-30T05:42:26.655874Z",
     "start_time": "2020-09-30T05:42:25.922288Z"
    }
   },
   "outputs": [],
   "source": [
    "## create a scatter plot using pandas\n",
    "\n",
    "cols = ['chol', 'thalach', 'trestbps']\n",
    "pd.plotting.scatter_matrix(heart_df[cols], figsize=(10, 8));"
   ]
  },
  {
   "cell_type": "markdown",
   "metadata": {},
   "source": [
    "### Plotting `DataFrames`"
   ]
  },
  {
   "cell_type": "code",
   "execution_count": null,
   "metadata": {
    "ExecuteTime": {
     "end_time": "2020-09-30T05:42:26.869884Z",
     "start_time": "2020-09-30T05:42:26.659332Z"
    }
   },
   "outputs": [],
   "source": [
    "df.plot(x='col3', y='col4', kind='scatter', color='dodgerblue',\n",
    "        figsize=(15,7), s=250);"
   ]
  },
  {
   "cell_type": "markdown",
   "metadata": {},
   "source": [
    "#### Exercise: View the association between the variables `chol` and `trestbps` using a scatter plot\n",
    "1. create a scatterplot of ```chol``` vs ```trestbps```. Use the following parameters.\n",
    "- set figure size to (15,7)\n",
    "- set marker size to 100\n",
    "- set color to ```dodgerblue```\n",
    "2. Give the plot an appropriate title."
   ]
  },
  {
   "cell_type": "code",
   "execution_count": null,
   "metadata": {
    "ExecuteTime": {
     "end_time": "2020-09-30T05:42:27.141461Z",
     "start_time": "2020-09-30T05:42:26.872138Z"
    }
   },
   "outputs": [],
   "source": [
    "ax = heart_df.plot(x='chol', y='trestbps', kind='scatter', \n",
    "           color='dodgerblue', figsize=(15,7), s=100);\n",
    "ax.set_title('Scatterplot Cholesterol vs Resting BP');"
   ]
  },
  {
   "cell_type": "markdown",
   "metadata": {},
   "source": [
    "### How to use a list comprehension to change the size of the scatter plot dots based on a selected feature.\n",
    "We've seen we can set the size of the marker in our scatter plot. Now we'll show how to make that marker size variable based on the values of another feature in data.\n",
    "\n",
    "Here we're still plotting ```chol``` vs ```trestbps```, but now we set the marker size as a function of the feature ```oldpeak```."
   ]
  },
  {
   "cell_type": "code",
   "execution_count": null,
   "metadata": {
    "ExecuteTime": {
     "end_time": "2020-09-30T05:42:27.396175Z",
     "start_time": "2020-09-30T05:42:27.143295Z"
    }
   },
   "outputs": [],
   "source": [
    "# This list comprehension sets the point sizes ('s') to be the squares of the values in housing['DIS']\n",
    "heart_df.plot(x='chol', y='trestbps', kind='scatter', \n",
    "           color='dodgerblue', figsize=(15,7), s=[x**4 for x in heart_df['oldpeak']]);"
   ]
  },
  {
   "cell_type": "markdown",
   "metadata": {},
   "source": [
    "<a id=\"seaborn\"></a>\n",
    "## Seaborn `pairplot`\n",
    "\n",
    "---\n",
    "\n",
    "- **Objective:** Know when to use Seaborn or advanced Matplotlib.\n",
    "\n",
    "With the `DataFrame` object `housing`, we will render a pairplot using the Seaborn library.\n",
    "What do each of the elements represent? Is this more or less useful than the previous plot?"
   ]
  },
  {
   "cell_type": "code",
   "execution_count": null,
   "metadata": {
    "ExecuteTime": {
     "end_time": "2020-09-30T05:42:42.037275Z",
     "start_time": "2020-09-30T05:42:27.402991Z"
    }
   },
   "outputs": [],
   "source": [
    "sns.pairplot(heart_df);"
   ]
  },
  {
   "cell_type": "markdown",
   "metadata": {},
   "source": [
    "**Answer:** _What do each of the elements represent?  Is this more or less useful than the previous plot?_\n",
    "> In a pair plot we get to see every relationship between every _pair_ of variables.  We can see this is very useful for quickly discovering which variables have some kind of correlation during an exploratory data analysis.  However, when just looking at the `INDUS` feature, the pair plot is more difficult to read and interpret as opposed to the single histogram.  "
   ]
  },
  {
   "cell_type": "markdown",
   "metadata": {},
   "source": [
    "## Seaborn `heatmap`\n",
    "---\n",
    "\n",
    "When you have too many variables, a pairplot or scatter matrix can become impossible to read. We can still gauge linear correlation using a heatmap of the correlation matrix."
   ]
  },
  {
   "cell_type": "code",
   "execution_count": null,
   "metadata": {
    "ExecuteTime": {
     "end_time": "2020-09-30T05:42:42.353574Z",
     "start_time": "2020-09-30T05:42:42.039623Z"
    }
   },
   "outputs": [],
   "source": [
    "# Make a heatmap on the correlations between variables in the housing data:\n",
    "housing_correlations = housing.corr();\n",
    "sns.heatmap(housing_correlations);"
   ]
  },
  {
   "cell_type": "markdown",
   "metadata": {},
   "source": [
    "### Exercise: Create a scatter plot of two heatmap entries that appear to have a very positive correlation."
   ]
  },
  {
   "cell_type": "code",
   "execution_count": null,
   "metadata": {
    "ExecuteTime": {
     "end_time": "2020-09-30T05:42:42.509438Z",
     "start_time": "2020-09-30T05:42:42.356235Z"
    }
   },
   "outputs": [],
   "source": [
    "#Create a scatter plot of two heatmap entries that appear to have a very positive correlation. Use seaborn lmplot()\n",
    "\n",
    "sns.lmplot(x=\"NOX\",y=\"INDUS\", data=housing, fit_reg=False);\n",
    "plt.title('NOX vs INDUS')\n",
    "plt.show()"
   ]
  },
  {
   "cell_type": "markdown",
   "metadata": {},
   "source": [
    "- Now, create a scatter plot of two heatmap entries that appear to have negative correlation."
   ]
  },
  {
   "cell_type": "code",
   "execution_count": null,
   "metadata": {
    "ExecuteTime": {
     "end_time": "2020-09-30T05:42:42.706703Z",
     "start_time": "2020-09-30T05:42:42.511902Z"
    },
    "scrolled": true
   },
   "outputs": [],
   "source": [
    "# create a scatter plot of two heatmap entries that appear to have negative correlation.\n",
    "sns.lmplot(x=\"NOX\",y=\"DIS\", data=housing, fit_reg=False);\n",
    "plt.title('NOX vs DIS')\n",
    "plt.show()"
   ]
  },
  {
   "cell_type": "code",
   "execution_count": null,
   "metadata": {
    "ExecuteTime": {
     "end_time": "2020-09-30T05:42:43.126219Z",
     "start_time": "2020-09-30T05:42:42.710682Z"
    }
   },
   "outputs": [],
   "source": [
    "sns.lmplot(x=\"NOX\",y=\"DIS\", data=housing, fit_reg=True);\n",
    "plt.title('DIS vs NOX')\n",
    "plt.show()"
   ]
  },
  {
   "cell_type": "markdown",
   "metadata": {},
   "source": [
    "<a id=\"matplotlib\"></a>\n",
    "## OPTIONAL: Understanding Matplotlib (Figures, Subplots, and Axes)\n",
    "\n",
    "---"
   ]
  },
  {
   "cell_type": "markdown",
   "metadata": {},
   "source": [
    "Matplotlib uses a blank canvas called a figure."
   ]
  },
  {
   "cell_type": "code",
   "execution_count": null,
   "metadata": {
    "ExecuteTime": {
     "end_time": "2020-11-24T03:15:09.786730Z",
     "start_time": "2020-11-24T03:15:09.196158Z"
    }
   },
   "outputs": [],
   "source": [
    "fig = plt.subplots(1,1, figsize=(16,8));"
   ]
  },
  {
   "cell_type": "markdown",
   "metadata": {},
   "source": [
    "Within this canvas, we can contain smaller objects called axes."
   ]
  },
  {
   "cell_type": "code",
   "execution_count": null,
   "metadata": {
    "ExecuteTime": {
     "end_time": "2020-11-24T03:15:13.294673Z",
     "start_time": "2020-11-24T03:15:12.810527Z"
    }
   },
   "outputs": [],
   "source": [
    "fig, axes = plt.subplots(2,3, figsize=(16,8));"
   ]
  },
  {
   "cell_type": "markdown",
   "metadata": {},
   "source": [
    "#### Exercise:\n",
    "Pandas allows us to plot to a specified axes if we pass the object to the ax parameter.\n",
    "\n",
    "Using the ```df``` dataframe generate the following plots:\n",
    "1. Plot the full dataframe in the first subplot of the first row.\n",
    "2. Plot ```col1``` in the second plot, make the line red.\n",
    "3. Plot ```col2``` in the last plot in the first row, make the line green.\n",
    "4. Plot ```col3``` in the first plot of the second row, make the line blue.\n",
    "5. Plot ```col4``` in the second plot in the second row, make the line orange.\n",
    "6. Plot ```col2``` and ```col3``` in the last plot of the second row, make ```col2``` red and ```col3``` blue."
   ]
  },
  {
   "cell_type": "code",
   "execution_count": null,
   "metadata": {
    "ExecuteTime": {
     "end_time": "2020-11-24T03:15:16.818729Z",
     "start_time": "2020-11-24T03:15:15.779289Z"
    },
    "scrolled": false
   },
   "outputs": [],
   "source": [
    "# Answer here.\n",
    "fig, axes = plt.subplots(2,3, figsize=(16,8))\n",
    "df.plot(ax=axes[0][0]);\n",
    "df['col1'].plot(ax=axes[0][1], color='red');\n",
    "df['col2'].plot(ax=axes[0][2], color='green');\n",
    "df['col3'].plot(ax=axes[1][0], color='blue');\n",
    "df['col4'].plot(ax=axes[1][1], color='orange');\n",
    "df[['col2', 'col3']].plot(ax=axes[1][2], color=['red', 'blue']);\n"
   ]
  },
  {
   "cell_type": "markdown",
   "metadata": {},
   "source": [
    "## Let's use a bit more customization.\n",
    "---"
   ]
  },
  {
   "cell_type": "code",
   "execution_count": null,
   "metadata": {
    "ExecuteTime": {
     "end_time": "2020-11-24T03:15:23.317550Z",
     "start_time": "2020-11-24T03:15:22.705191Z"
    }
   },
   "outputs": [],
   "source": [
    "fig, axes = plt.subplots(2,2, figsize=(16,8))\n",
    "\n",
    "# We can change the ticks' size.\n",
    "df['col2'].plot(figsize=(16,4), color='purple', fontsize=21, ax=axes[0][0])\n",
    "\n",
    "# We can also change which ticks are visible.\n",
    "# Let's show only the even ticks. ('idx % 2 == 0' only if 'idx' is even.)\n",
    "ticks_to_show = [idx for idx, _ in enumerate(df['col2'].index) if idx % 2 == 0]\n",
    "df['col2'].plot(figsize=(16,4), color='purple', xticks=ticks_to_show, fontsize=16, ax=axes[0][1])\n",
    "\n",
    "# We can change the label rotation.\n",
    "df.plot(figsize=(15,7), title='Big Rotated Labels - Tiny Title',\\\n",
    "        fontsize=20, rot=-50, ax=axes[1][0])\\\n",
    "\n",
    "# We have to use \".set_title()\" to fix title size.\n",
    "df.plot(figsize=(16,8), fontsize=20, rot=-50, ax=axes[1][1])\\\n",
    "       .set_title('Better-Sized Title', fontsize=21, y=1.01);"
   ]
  },
  {
   "cell_type": "markdown",
   "metadata": {
    "collapsed": true
   },
   "source": [
    "<a id=\"additional-topics\"></a>\n",
    "## OPTIONAL: Additional Topics"
   ]
  },
  {
   "cell_type": "code",
   "execution_count": null,
   "metadata": {
    "ExecuteTime": {
     "end_time": "2020-11-24T03:16:40.420230Z",
     "start_time": "2020-11-24T03:16:40.140527Z"
    }
   },
   "outputs": [],
   "source": [
    "# Saving a plot to a file\n",
    "drinks.beer.plot(kind='hist', bins=20, title='Histogram of Beer Servings');\n",
    "plt.xlabel('Beer Servings');\n",
    "plt.ylabel('Frequency');\n",
    "plt.savefig('beer_histogram.png');    # Save to file!"
   ]
  },
  {
   "cell_type": "code",
   "execution_count": null,
   "metadata": {
    "ExecuteTime": {
     "end_time": "2020-11-24T03:16:41.551720Z",
     "start_time": "2020-11-24T03:16:41.545371Z"
    }
   },
   "outputs": [],
   "source": [
    "# List available plot styles\n",
    "plt.style.available"
   ]
  },
  {
   "cell_type": "code",
   "execution_count": null,
   "metadata": {
    "ExecuteTime": {
     "end_time": "2020-11-24T03:16:43.521562Z",
     "start_time": "2020-11-24T03:16:43.512518Z"
    }
   },
   "outputs": [],
   "source": [
    "# Change to a different style.\n",
    "plt.style.use('seaborn-white')"
   ]
  },
  {
   "cell_type": "code",
   "execution_count": null,
   "metadata": {
    "ExecuteTime": {
     "end_time": "2020-11-24T03:16:44.732187Z",
     "start_time": "2020-11-24T03:16:44.466793Z"
    }
   },
   "outputs": [],
   "source": [
    "# Saving a plot to a file\n",
    "drinks.beer.plot(kind='hist', bins=20, title='Histogram of Beer Servings');\n",
    "plt.xlabel('Beer Servings');\n",
    "plt.ylabel('Frequency');\n",
    "plt.savefig('beer_histogram.png');    # Save to file!"
   ]
  },
  {
   "cell_type": "markdown",
   "metadata": {
    "collapsed": true
   },
   "source": [
    "<a id=\"summary\"></a>\n",
    "### Summary\n",
    "\n",
    "In this lesson, we showed examples how to create a variety of plots using Pandas and Matplotlib. We also showed how to use each plot to effectively display data.\n",
    "\n",
    "Do not be concerned if you do not remember everything — this will come with practice! Although there are many plot styles, many similarities exist between how each plot is drawn. For example, they have most parameters in common, and the same Matplotlib functions are used to modify the plot area.\n",
    "\n",
    "We looked at:\n",
    "- Line plots\n",
    "- Bar plots\n",
    "- Histograms\n",
    "- Box plots\n",
    "- Special seaborn plots\n",
    "- How Matplotlib works"
   ]
  },
  {
   "cell_type": "code",
   "execution_count": null,
   "metadata": {},
   "outputs": [],
   "source": []
  }
 ],
 "metadata": {
  "kernelspec": {
   "display_name": "Python 3",
   "language": "python",
   "name": "python3"
  },
  "language_info": {
   "codemirror_mode": {
    "name": "ipython",
    "version": 3
   },
   "file_extension": ".py",
   "mimetype": "text/x-python",
   "name": "python",
   "nbconvert_exporter": "python",
   "pygments_lexer": "ipython3",
   "version": "3.7.3"
  },
  "toc": {
   "base_numbering": 1,
   "nav_menu": {},
   "number_sections": false,
   "sideBar": true,
   "skip_h1_title": false,
   "title_cell": "Table of Contents",
   "title_sidebar": "Contents",
   "toc_cell": false,
   "toc_position": {},
   "toc_section_display": true,
   "toc_window_display": false
  }
 },
 "nbformat": 4,
 "nbformat_minor": 2
}
