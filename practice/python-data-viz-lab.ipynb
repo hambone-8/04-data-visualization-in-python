{
 "cells": [
  {
   "cell_type": "markdown",
   "metadata": {},
   "source": [
    "<img src=\"http://imgur.com/1ZcRyrc.png\" style=\"float: left; margin: 20px; height: 55px\">\n",
    "\n",
    "## Guided Practice: Explore Python Data Visualization\n",
    "\n",
    "_Authors: Alexander Combs (New York City), Dave Yerrington (San Francisco), and Kevin Markham (Washington, D.C.)_, _Updated: B Rhodes (DC)_\n",
    "\n",
    "\n",
    "---\n",
    "\n",
    "In this guided practice lab you will use Pandas, Matplotlib, and Seaborn to create simple plots.\n",
    "\n",
    "We'll cover plotting line plots, scatter plots, bar plots, and histograms, and how to manipulate the style of your plots with Matplotlib."
   ]
  },
  {
   "cell_type": "markdown",
   "metadata": {},
   "source": [
    "## Learning Objectives\n",
    "\n",
    "- **Practice** using different types of plots.\n",
    "- **Use** Pandas methods for plotting.\n",
    "- **Create** line plots, bar plots, histograms, and box plots.\n",
    "- **Know** when to use Seaborn or advanced Matplotlib"
   ]
  },
  {
   "cell_type": "markdown",
   "metadata": {},
   "source": [
    "## Lesson Guide\n",
    "\n",
    "- [Line Plots](#line-plots)\n",
    "- [Bar Plots](#bar-plots)\n",
    "- [Histograms](#histograms)\n",
    "    - [Grouped Histograms](#grouped-histograms)\n",
    "    \n",
    "    \n",
    "- [Box Plots](#box-plots)\n",
    "    - [Grouped Box Plots](#grouped-box-plots)\n",
    "    \n",
    "- [Scatter Plots](#scatter-plots)\n",
    "- [Using Seaborn](#using-seaborn)\n",
    "- [OPTIONAL: Understanding Matplotlib (Figures, Subplots, and Axes)](#matplotlib)\n",
    "- [OPTIONAL: Additional Topics](#additional-topics)\n",
    "\n",
    "- [Summary](#summary)"
   ]
  },
  {
   "cell_type": "markdown",
   "metadata": {},
   "source": [
    "### Introduction\n",
    "\n",
    "In this lab, we will introduce how plotting works in Pandas and Matplotlib. It is important to know that Pandas uses Matplotlib behind the scenes to make plots. So, you will notice that Pandas plotting methods often use similar parameter names as Matplotlib methods. Further, you can use Matplotlib functions in combination with Pandas methods to alter the plots after drawing them. For example, you can use Matplotlib's `xlabel` and `title` functions to label the plot's x-axis and title, respectively, after it is drawn.\n",
    "\n",
    "As we explore different types of plots, notice:\n",
    "\n",
    "1. Different types of plots are drawn very similarly -- they even tend to share parameter names.\n",
    "2. In Pandas, calling `plot()` on a `DataFrame` is different than calling it on a `Series`. Although the methods are both named `plot`, they may take different parameters.\n",
    "\n",
    "Toward the end of the lab, we will show some motivational plots using Seaborn, a popular statistics plotting library, as well as go more in-depth about how Matplotlib works."
   ]
  },
  {
   "cell_type": "markdown",
   "metadata": {},
   "source": [
    "### Pandas Plotting Documentation\n",
    "\n",
    "[Link to Documentation](http://pandas.pydata.org/pandas-docs/stable/generated/pandas.DataFrame.plot.html)"
   ]
  },
  {
   "cell_type": "code",
   "execution_count": null,
   "metadata": {
    "ExecuteTime": {
     "end_time": "2021-11-30T02:01:15.178945Z",
     "start_time": "2021-11-30T02:01:10.367041Z"
    }
   },
   "outputs": [],
   "source": [
    "# from IPython.display import HTML\n",
    "\n",
    "import pandas as pd\n",
    "import numpy as np\n",
    "import seaborn as sns\n",
    "import matplotlib.pyplot as plt\n",
    "\n",
    "plt.style.use('classic') # Remember this you will need it later.\n",
    "%matplotlib inline\n",
    "\n",
    "# Increase default figure and font sizes for easier viewing.\n",
    "plt.rcParams['figure.figsize'] = (8, 6)\n",
    "plt.rcParams['font.size'] = 14"
   ]
  },
  {
   "cell_type": "markdown",
   "metadata": {},
   "source": [
    "###### Importing Matplotlib\n",
    "Notice the difference when we import pandas with **`import pandas as pd`** vs **`import matplotlib.pyplot as plt`** for matplotlib. With the pandas import we get access to the whole library and virutall all of the available methods and classes of the Pandas library. For Matplotlib this isn't the case. For various reasons a large portion of the most used functionality in the library is found in the pyplot module. In the import statement we're only importing the functions contained in a file named **`pyplot.py`** and we won't have direct access to the rest of the library.\n",
    "\n",
    "Similar to the pandas import we use the alias **`plt`** to simplify how we access methods and classes in **`pyplot.py`**.\n",
    "\n",
    "##### Display Matplotlib plots in the Jupyter Notebook\n",
    "We use the magic command **`%matplotlib inline`** to embed matplotlib plots into the output of the cells. Without this, we have to call the **`show`** method, which produces a plot in a separate window."
   ]
  },
  {
   "cell_type": "markdown",
   "metadata": {},
   "source": [
    "### Create fake data for examples."
   ]
  },
  {
   "cell_type": "code",
   "execution_count": null,
   "metadata": {
    "ExecuteTime": {
     "end_time": "2021-11-30T02:01:24.493188Z",
     "start_time": "2021-11-30T02:01:24.470450Z"
    }
   },
   "outputs": [],
   "source": [
    "df = pd.DataFrame(np.random.randn(10, 4), \n",
    "                  columns=['col1', 'col2', 'col3', 'col4'],\n",
    "                  index=['a', 'b', 'c', 'd', 'e', 'f', 'g', 'h', 'i', 'j'])\n",
    "\n",
    "df"
   ]
  },
  {
   "cell_type": "markdown",
   "metadata": {},
   "source": [
    "### Choosing the right type of visualization\n",
    "\n",
    "The choice of visualization should depend what you are trying to show. Here is a helpful flowchart that you can use to determine the best type of visualizations.\n",
    "\n",
    "![Chart Suggestions](../assets/images/chart_suggestions.png)"
   ]
  },
  {
   "cell_type": "markdown",
   "metadata": {},
   "source": [
    "### Load in data sets for visualization examples.\n",
    "\n",
    "The Boston data dictionary can be found [here](https://archive.ics.uci.edu/ml/machine-learning-databases/housing/housing.names). \n",
    "\n",
    "The Cleveland heart data dictionary can be found [here](https://archive.ics.uci.edu/ml/datasets/Heart+Disease)."
   ]
  },
  {
   "cell_type": "code",
   "execution_count": null,
   "metadata": {
    "ExecuteTime": {
     "end_time": "2021-11-30T02:01:34.253286Z",
     "start_time": "2021-11-30T02:01:27.655513Z"
    }
   },
   "outputs": [],
   "source": [
    "\n",
    "# Read in the drinks data.\n",
    "drink_cols = ['country', 'beer', 'spirit', 'wine', 'liters', 'continent']\n",
    "drink_path = '../datasets/drinks.csv'\n",
    "drinks = pd.read_csv(drink_path, header=0, names=drink_cols, na_filter=False)\n",
    "\n",
    "# Read in the ufo data.\n",
    "ufo_path = '../datasets/ufo.csv'\n",
    "ufo = pd.read_csv(ufo_path)\n",
    "ufo['Time'] = pd.to_datetime(ufo.Time)\n",
    "ufo['Year'] = ufo.Time.dt.year\n",
    "\n",
    "# Read in the Cleveland heart data.\n",
    "heart_path = '../datasets/cleveland_heart_data.csv'\n",
    "heart_df = pd.read_csv(heart_path)\n",
    "\n",
    "# Read in the Boston housing data.\n",
    "housing_path = '../datasets/boston_housing_data.csv'\n",
    "housing = pd.read_csv(housing_path)\n"
   ]
  },
  {
   "cell_type": "markdown",
   "metadata": {},
   "source": [
    "<a id=\"line-plots\"></a>\n",
    "## Line plots, bar plots & histograms: \n",
    "\n",
    "---\n",
    "\n",
    "Line plots show the trend of a numerical variable over time\n",
    "\n",
    "- **Objective:** **Use** Pandas methods for plotting.\n",
    "- **Objective:** **Create** line plots, bar plots, and histograms."
   ]
  },
  {
   "cell_type": "code",
   "execution_count": null,
   "metadata": {
    "ExecuteTime": {
     "end_time": "2021-11-30T02:01:34.280533Z",
     "start_time": "2021-11-30T02:01:34.256137Z"
    }
   },
   "outputs": [],
   "source": [
    "# Count the number of ufo reports each year (and sort by year).\n",
    "ufo['Year'].value_counts().sort_index(ascending=True)"
   ]
  },
  {
   "cell_type": "code",
   "execution_count": null,
   "metadata": {
    "ExecuteTime": {
     "end_time": "2021-11-30T02:01:34.309729Z",
     "start_time": "2021-11-30T02:01:34.285676Z"
    }
   },
   "outputs": [],
   "source": [
    "ufo['Year'] = pd.to_datetime(ufo['Year'], format='%Y')"
   ]
  },
  {
   "cell_type": "code",
   "execution_count": null,
   "metadata": {
    "ExecuteTime": {
     "end_time": "2021-11-30T02:01:35.234760Z",
     "start_time": "2021-11-30T02:01:34.312304Z"
    }
   },
   "outputs": [],
   "source": [
    "# Compare with line plot -- UFO sightings by year. (Ordering by year makes sense.)\n",
    "ufo['Year'].value_counts().sort_index(ascending=True).plot();"
   ]
  },
  {
   "cell_type": "code",
   "execution_count": null,
   "metadata": {
    "ExecuteTime": {
     "end_time": "2021-11-30T02:01:35.419113Z",
     "start_time": "2021-11-30T02:01:35.239985Z"
    }
   },
   "outputs": [],
   "source": [
    "# COMMON MISTAKE: Don't use a line plot when the x-axis cannot be ordered sensically!\n",
    "\n",
    "# For example, ordering by continent below shows a trend where no exists ... \n",
    "#    it would be just as valid to plot the continents in any order.\n",
    "\n",
    "# So, a line plot is the wrong type of plot for this data.\n",
    "# Always think about what you're plotting and if it makes sense.\n",
    "\n",
    "drinks.continent.value_counts().plot();"
   ]
  },
  {
   "cell_type": "markdown",
   "metadata": {},
   "source": [
    "**Important:** A line plot is the wrong type of plot for this data. Any set of countries can be rearranged misleadingly to illustrate a negative trend, as we did here. Due to this, it would be more appropriate to represent this data using a bar plot, which does not imply a trend based on order."
   ]
  },
  {
   "cell_type": "code",
   "execution_count": null,
   "metadata": {
    "ExecuteTime": {
     "end_time": "2021-11-30T02:01:35.595283Z",
     "start_time": "2021-11-30T02:01:35.423291Z"
    },
    "scrolled": false
   },
   "outputs": [],
   "source": [
    "# Plot the same data as a (horizontal) bar plot -- a much better choice!\n",
    "drinks['continent'].value_counts().plot(kind='barh');"
   ]
  },
  {
   "cell_type": "markdown",
   "metadata": {},
   "source": [
    "### Exercise: Plot ```diag``` in the Heart data\n",
    "Plot the ```diag``` column using a bar chart."
   ]
  },
  {
   "cell_type": "code",
   "execution_count": null,
   "metadata": {
    "ExecuteTime": {
     "end_time": "2021-11-30T02:01:35.623130Z",
     "start_time": "2021-11-30T02:01:35.600232Z"
    }
   },
   "outputs": [],
   "source": [
    "heart_df.head()"
   ]
  },
  {
   "cell_type": "code",
   "execution_count": null,
   "metadata": {
    "ExecuteTime": {
     "end_time": "2021-11-30T02:03:01.629425Z",
     "start_time": "2021-11-30T02:03:01.444619Z"
    }
   },
   "outputs": [],
   "source": [
    "# Plot the diag column on a (vertical) bar chart"
   ]
  },
  {
   "cell_type": "markdown",
   "metadata": {},
   "source": [
    "### Line Plot With a `DataFrame`"
   ]
  },
  {
   "cell_type": "code",
   "execution_count": null,
   "metadata": {
    "ExecuteTime": {
     "end_time": "2021-11-30T02:03:19.854231Z",
     "start_time": "2021-11-30T02:03:19.676898Z"
    }
   },
   "outputs": [],
   "source": [
    "df.plot();"
   ]
  },
  {
   "cell_type": "markdown",
   "metadata": {},
   "source": [
    "### How to change the size of a plot"
   ]
  },
  {
   "cell_type": "code",
   "execution_count": null,
   "metadata": {
    "ExecuteTime": {
     "end_time": "2021-11-30T02:03:29.157924Z",
     "start_time": "2021-11-30T02:03:28.882790Z"
    }
   },
   "outputs": [],
   "source": [
    "# Technically the figsize is 15 \"inches\" (width) by 8 \"inches\" (height)\n",
    "#   The figure is specified in inches for printing -- you set a dpi (dots/pixels per inch) elsewhere\n",
    "df.plot(figsize=(15,8)); # width, height\n",
    "plt.title(\"Fig Size Demo\");"
   ]
  },
  {
   "cell_type": "markdown",
   "metadata": {},
   "source": [
    "### How to change the color of a plot"
   ]
  },
  {
   "cell_type": "code",
   "execution_count": null,
   "metadata": {
    "ExecuteTime": {
     "end_time": "2021-11-30T02:03:33.660586Z",
     "start_time": "2021-11-30T02:03:33.446655Z"
    }
   },
   "outputs": [],
   "source": [
    "df['col1'].plot(color='crimson', figsize=(16,8));"
   ]
  },
  {
   "cell_type": "markdown",
   "metadata": {},
   "source": [
    "### How to change the style of individual lines"
   ]
  },
  {
   "cell_type": "code",
   "execution_count": null,
   "metadata": {
    "ExecuteTime": {
     "end_time": "2021-11-30T02:03:37.904578Z",
     "start_time": "2021-11-30T02:03:37.708023Z"
    }
   },
   "outputs": [],
   "source": [
    "# : - dotted line, v - triangle_down\n",
    "# r - red, b - blue\n",
    "\n",
    "# Here we use a dictionary to define the styles. Note order does not matter in the dictionary.\n",
    "df[['col1', 'col4']].plot(figsize=(15,7), style={'col4': '-sr', 'col1': '--vb'});"
   ]
  },
  {
   "cell_type": "code",
   "execution_count": null,
   "metadata": {
    "ExecuteTime": {
     "end_time": "2021-11-30T02:03:41.858767Z",
     "start_time": "2021-11-30T02:03:41.670704Z"
    }
   },
   "outputs": [],
   "source": [
    "# We could also use a list to define the styles. Order matters here.\n",
    "\n",
    "df[['col1', 'col4']].plot(figsize=(15,7), style=['sb-', '--ro']);"
   ]
  },
  {
   "cell_type": "markdown",
   "metadata": {},
   "source": [
    "### Challenge: Create a line plot of `chol` and `thalach` in the heart data. \n",
    "\n",
    "- Verify the column names. There is a minor discrepancy that needs to be corrected.\n",
    "- For `chol`, use a solid green line. For `thalach`, use a blue dashed line.\n",
    "- Change the figure size to a width of 12 and height of 8.\n",
    "- Change the style sheet (use: ```plt.style.use('STYLE NAME HERE')```\n",
    "to something you find [here](https://tonysyu.github.io/raw_content/matplotlib-style-gallery/gallery.html).\n",
    "\n",
    "#### Clean up the headers (i.e. column names)\n",
    "We need to take a look at the column names in the heart data. This is a common task as part of data cleaning."
   ]
  },
  {
   "cell_type": "code",
   "execution_count": null,
   "metadata": {
    "ExecuteTime": {
     "end_time": "2021-11-29T00:50:08.556529Z",
     "start_time": "2021-11-29T00:50:08.551455Z"
    },
    "scrolled": true
   },
   "outputs": [],
   "source": [
    "# Look at the headers for the heart data.\n",
    "# What discrepancies do you see?\n",
    "# How would you fix them?\n",
    "\n",
    "#display the column names\n"
   ]
  },
  {
   "cell_type": "code",
   "execution_count": null,
   "metadata": {
    "ExecuteTime": {
     "end_time": "2021-11-29T00:50:43.451710Z",
     "start_time": "2021-11-29T00:50:43.440254Z"
    }
   },
   "outputs": [],
   "source": [
    "# How would you fix it?\n",
    "\n",
    "#A:\n",
    "\n",
    "\n",
    "\n",
    "\n",
    "# Verify the fix\n"
   ]
  },
  {
   "cell_type": "markdown",
   "metadata": {},
   "source": [
    "#### Change Styles"
   ]
  },
  {
   "cell_type": "code",
   "execution_count": null,
   "metadata": {
    "ExecuteTime": {
     "end_time": "2021-11-29T00:50:45.660581Z",
     "start_time": "2021-11-29T00:50:45.188123Z"
    }
   },
   "outputs": [],
   "source": [
    "#Change the style sheet\n",
    "\n",
    "#A:\n",
    "\n",
    "# use a list\n",
    "\n",
    "\n",
    "# or use a dictionary\n",
    "\n",
    "\n",
    "\n"
   ]
  },
  {
   "cell_type": "code",
   "execution_count": null,
   "metadata": {
    "ExecuteTime": {
     "end_time": "2021-11-29T00:50:46.463271Z",
     "start_time": "2021-11-29T00:50:46.455612Z"
    }
   },
   "outputs": [],
   "source": [
    "# Change the plot style back to fivethirtyeight\n"
   ]
  },
  {
   "cell_type": "markdown",
   "metadata": {},
   "source": [
    "<a id=\"bar-plots\"></a>\n",
    "## Bar Plots: Show a numerical comparison across different categories\n",
    "---"
   ]
  },
  {
   "cell_type": "code",
   "execution_count": null,
   "metadata": {
    "ExecuteTime": {
     "end_time": "2021-11-30T02:38:21.271546Z",
     "start_time": "2021-11-30T02:38:21.236531Z"
    }
   },
   "outputs": [],
   "source": [
    "drinks.head()"
   ]
  },
  {
   "cell_type": "code",
   "execution_count": null,
   "metadata": {
    "ExecuteTime": {
     "end_time": "2021-11-30T02:38:21.880997Z",
     "start_time": "2021-11-30T02:38:21.871374Z"
    }
   },
   "outputs": [],
   "source": [
    "# Count the number of countries in each continent.\n",
    "drinks['continent'].value_counts()"
   ]
  },
  {
   "cell_type": "code",
   "execution_count": null,
   "metadata": {
    "ExecuteTime": {
     "end_time": "2021-11-30T02:38:22.616777Z",
     "start_time": "2021-11-30T02:38:22.361893Z"
    },
    "scrolled": false
   },
   "outputs": [],
   "source": [
    "# Compare with bar plot.\n",
    "drinks['continent'].value_counts().plot(kind='bar');"
   ]
  },
  {
   "cell_type": "code",
   "execution_count": null,
   "metadata": {
    "ExecuteTime": {
     "end_time": "2021-11-30T02:38:22.839136Z",
     "start_time": "2021-11-30T02:38:22.818634Z"
    }
   },
   "outputs": [],
   "source": [
    "drinks.head()"
   ]
  },
  {
   "cell_type": "code",
   "execution_count": null,
   "metadata": {
    "ExecuteTime": {
     "end_time": "2021-11-30T02:38:23.246623Z",
     "start_time": "2021-11-30T02:38:23.218737Z"
    }
   },
   "outputs": [],
   "source": [
    "# Calculate the mean alcohol amounts for each continent.\n",
    "drinks.groupby('continent').mean()"
   ]
  },
  {
   "cell_type": "code",
   "execution_count": null,
   "metadata": {
    "ExecuteTime": {
     "end_time": "2021-11-30T02:38:23.827172Z",
     "start_time": "2021-11-30T02:38:23.587181Z"
    },
    "scrolled": false
   },
   "outputs": [],
   "source": [
    "# Side-by-side bar plots\n",
    "drinks.groupby('continent').mean().plot(kind='bar');"
   ]
  },
  {
   "cell_type": "code",
   "execution_count": null,
   "metadata": {
    "ExecuteTime": {
     "end_time": "2021-11-30T02:38:24.244785Z",
     "start_time": "2021-11-30T02:38:23.980664Z"
    }
   },
   "outputs": [],
   "source": [
    "# Sort the continent x-axis by a particular column.\n",
    "drinks.groupby('continent').mean().sort_values('beer').plot(kind='bar');"
   ]
  },
  {
   "cell_type": "code",
   "execution_count": null,
   "metadata": {
    "ExecuteTime": {
     "end_time": "2021-11-30T02:38:24.591666Z",
     "start_time": "2021-11-30T02:38:24.370365Z"
    },
    "scrolled": false
   },
   "outputs": [],
   "source": [
    "# Stacked bar plot (with the liters comparison removed!)\n",
    "drinks.groupby('continent').mean().drop('liters', axis=1).plot(kind='bar', stacked=True);\n"
   ]
  },
  {
   "cell_type": "markdown",
   "metadata": {},
   "source": [
    "#### Exercise: Plot the heart data grouped by ```diag```\n",
    "1. Plot a subset of the heart data grouped by the ```diag``` column.\n",
    "2. Do the same plot, but sort by ```'thalach'``` column.\n",
    "\n",
    "You only need to use the following columns of the heart data set.\n",
    "\n",
    "```'chol','thalach', 'trestbps', 'diag'```"
   ]
  },
  {
   "cell_type": "code",
   "execution_count": null,
   "metadata": {
    "ExecuteTime": {
     "end_time": "2021-11-30T02:38:25.650586Z",
     "start_time": "2021-11-30T02:38:25.629536Z"
    }
   },
   "outputs": [],
   "source": [
    "heart_df.head()"
   ]
  },
  {
   "cell_type": "code",
   "execution_count": null,
   "metadata": {
    "ExecuteTime": {
     "end_time": "2021-06-24T21:44:29.958205Z",
     "start_time": "2021-06-24T21:44:29.582569Z"
    },
    "scrolled": false
   },
   "outputs": [],
   "source": [
    "# Plot heart data grouped by diag\n"
   ]
  },
  {
   "cell_type": "code",
   "execution_count": null,
   "metadata": {
    "ExecuteTime": {
     "end_time": "2021-06-24T21:44:52.106504Z",
     "start_time": "2021-06-24T21:44:51.733785Z"
    }
   },
   "outputs": [],
   "source": [
    "# Plot heart data grouped by diag and sorted by thalach\n"
   ]
  },
  {
   "cell_type": "markdown",
   "metadata": {},
   "source": [
    "### Using a `DataFrame` and Matplotlib commands, we can get fancy."
   ]
  },
  {
   "cell_type": "code",
   "execution_count": null,
   "metadata": {
    "ExecuteTime": {
     "end_time": "2021-11-30T02:38:51.646256Z",
     "start_time": "2021-11-30T02:38:51.366179Z"
    },
    "scrolled": true
   },
   "outputs": [],
   "source": [
    "df.plot(kind='bar', figsize=(15,3));"
   ]
  },
  {
   "cell_type": "code",
   "execution_count": null,
   "metadata": {
    "ExecuteTime": {
     "end_time": "2021-11-30T02:38:52.267533Z",
     "start_time": "2021-11-30T02:38:51.905414Z"
    }
   },
   "outputs": [],
   "source": [
    "ax = df.plot(kind='bar', figsize=(15,8));\n",
    "\n",
    "# Set the title.\n",
    "ax.set_title('Some Kinda Plot Thingy', fontsize=21, y=1.01);\n",
    "\n",
    "# Move the legend.\n",
    "ax.legend(loc=1);\n",
    "\n",
    "# x-axis labels\n",
    "ax.set_ylabel('Important y-axis info', fontsize=16);\n",
    "\n",
    "# y-axis labels\n",
    "ax.set_xlabel('Meaningless x-axis info', fontsize=16);"
   ]
  },
  {
   "cell_type": "markdown",
   "metadata": {},
   "source": [
    "### Challenge: Create a bar chart using `col1` and `col2` from our random dataset.\n",
    "\n",
    "- Give the plot a large title of your choosing. \n",
    "- Move the legend to the lower-left corner."
   ]
  },
  {
   "cell_type": "code",
   "execution_count": null,
   "metadata": {
    "ExecuteTime": {
     "end_time": "2021-11-30T02:38:53.401129Z",
     "start_time": "2021-11-30T02:38:53.395740Z"
    }
   },
   "outputs": [],
   "source": [
    "# Create a bar chart using col1 and col2 from our random data set. Move the legend to the lower left\n"
   ]
  },
  {
   "cell_type": "markdown",
   "metadata": {},
   "source": [
    "- Do the same thing but with horizontal bars.\n",
    "- Move the legend to the upper-right corner."
   ]
  },
  {
   "cell_type": "code",
   "execution_count": null,
   "metadata": {
    "ExecuteTime": {
     "end_time": "2020-09-27T03:39:07.542040Z",
     "start_time": "2020-09-27T03:39:07.537123Z"
    }
   },
   "outputs": [],
   "source": [
    "# Create a horizontal bar chart using col1 and col2 from our random data set. Move the legend to the upper right."
   ]
  },
  {
   "cell_type": "markdown",
   "metadata": {},
   "source": [
    "### Stacked works on horizontal bar charts."
   ]
  },
  {
   "cell_type": "code",
   "execution_count": null,
   "metadata": {
    "ExecuteTime": {
     "end_time": "2021-06-24T21:52:03.015084Z",
     "start_time": "2021-06-24T21:52:02.534715Z"
    }
   },
   "outputs": [],
   "source": [
    "df.plot(kind='barh', stacked=True, figsize=(16,8));"
   ]
  },
  {
   "cell_type": "markdown",
   "metadata": {},
   "source": [
    "<a id=\"histograms\"></a>\n",
    "## Histograms: Show the distribution of a numerical variable\n",
    "---\n"
   ]
  },
  {
   "cell_type": "code",
   "execution_count": null,
   "metadata": {
    "ExecuteTime": {
     "end_time": "2021-06-24T21:53:23.938058Z",
     "start_time": "2021-06-24T21:53:23.903787Z"
    }
   },
   "outputs": [],
   "source": [
    "# Sort the beer column and mentally split it into three groups.\n",
    "drinks['beer'].sort_values().values"
   ]
  },
  {
   "cell_type": "code",
   "execution_count": null,
   "metadata": {
    "ExecuteTime": {
     "end_time": "2021-06-24T21:53:51.298806Z",
     "start_time": "2021-06-24T21:53:51.003957Z"
    }
   },
   "outputs": [],
   "source": [
    "# Compare the above with histogram.\n",
    "# About how many of the points above are in the groups 1-125, 125-250, and 250-376?\n",
    "drinks.beer.plot(kind='hist', bins=3);"
   ]
  },
  {
   "cell_type": "code",
   "execution_count": null,
   "metadata": {
    "ExecuteTime": {
     "end_time": "2021-06-24T21:55:11.078194Z",
     "start_time": "2021-06-24T21:55:10.681586Z"
    }
   },
   "outputs": [],
   "source": [
    "# Try more bins — it takes the range of the data and divides it into 20 evenly spaced bins.\n",
    "drinks.beer.plot(kind='hist', bins=20);\n",
    "plt.xlabel('Beer Servings');\n",
    "plt.ylabel('Frequency');"
   ]
  },
  {
   "cell_type": "code",
   "execution_count": null,
   "metadata": {
    "ExecuteTime": {
     "end_time": "2021-06-24T21:56:06.264046Z",
     "start_time": "2021-06-24T21:56:06.007392Z"
    }
   },
   "outputs": [],
   "source": [
    "# Compare with density plot (smooth version of a histogram).\n",
    "drinks.beer.plot(kind='density', xlim=(0, 500));"
   ]
  },
  {
   "cell_type": "code",
   "execution_count": null,
   "metadata": {
    "ExecuteTime": {
     "end_time": "2021-06-24T21:59:06.116996Z",
     "start_time": "2021-06-24T21:59:05.162143Z"
    }
   },
   "outputs": [],
   "source": [
    "# Making histograms of DataFrames — histogram of random data\n",
    "df.hist(figsize=(16,8), bins=20);"
   ]
  },
  {
   "cell_type": "markdown",
   "metadata": {},
   "source": [
    "### Single Histogram"
   ]
  },
  {
   "cell_type": "code",
   "execution_count": null,
   "metadata": {
    "ExecuteTime": {
     "end_time": "2021-11-30T02:42:47.302310Z",
     "start_time": "2021-11-30T02:42:47.298974Z"
    }
   },
   "outputs": [],
   "source": [
    "norm = np.random.standard_normal(5000)"
   ]
  },
  {
   "cell_type": "code",
   "execution_count": null,
   "metadata": {
    "ExecuteTime": {
     "end_time": "2021-11-30T02:42:48.242751Z",
     "start_time": "2021-11-30T02:42:48.005804Z"
    }
   },
   "outputs": [],
   "source": [
    "pd.Series(norm).hist(figsize=(16,4), bins=50);"
   ]
  },
  {
   "cell_type": "markdown",
   "metadata": {},
   "source": [
    "### Another bins example: Sometimes the binning makes the data look different or misleading."
   ]
  },
  {
   "cell_type": "code",
   "execution_count": null,
   "metadata": {
    "ExecuteTime": {
     "end_time": "2021-11-30T02:42:53.570093Z",
     "start_time": "2021-11-30T02:42:53.343134Z"
    }
   },
   "outputs": [],
   "source": [
    "pd.Series(norm).hist(figsize=(16,4), bins=20);"
   ]
  },
  {
   "cell_type": "markdown",
   "metadata": {},
   "source": [
    "### Exercise: Using Pandas create a histogram for `chol` in the heart data.\n",
    "- Set the bins to 20.\n",
    "- Create an appropriate title for the plot.\n",
    "- Label the x & y axes appropriately."
   ]
  },
  {
   "cell_type": "code",
   "execution_count": null,
   "metadata": {
    "ExecuteTime": {
     "end_time": "2021-11-30T02:43:38.379858Z",
     "start_time": "2021-11-30T02:43:38.376992Z"
    }
   },
   "outputs": [],
   "source": [
    "# Exercise: Create histogram of cholesterol\n"
   ]
  },
  {
   "cell_type": "markdown",
   "metadata": {},
   "source": [
    "<a id=\"grouped-histograms\"></a>\n",
    "### Grouped histograms: Show one histogram for each group."
   ]
  },
  {
   "cell_type": "code",
   "execution_count": null,
   "metadata": {
    "ExecuteTime": {
     "end_time": "2021-11-30T02:43:48.389916Z",
     "start_time": "2021-11-30T02:43:47.668346Z"
    }
   },
   "outputs": [],
   "source": [
    "heart_df.hist(column='chol', by='diag', layout=(2, 3));\n"
   ]
  },
  {
   "cell_type": "code",
   "execution_count": null,
   "metadata": {
    "ExecuteTime": {
     "end_time": "2021-11-30T02:43:56.248022Z",
     "start_time": "2021-11-30T02:43:55.660582Z"
    }
   },
   "outputs": [],
   "source": [
    "# Share the x- and y-axes.\n",
    "heart_df.hist(column='chol', by='diag', sharex=True, sharey=False, layout=(2, 3));"
   ]
  },
  {
   "cell_type": "markdown",
   "metadata": {},
   "source": [
    "<a id=\"box-plots\"></a>\n",
    "## Box Plots: Show quartiles (and outliers) for one or more numerical variables\n",
    "---\n",
    "\n",
    "We can use boxplots to quickly summarize distributions.\n",
    "\n",
    "**Five-number summary:**\n",
    "\n",
    "- min = minimum value\n",
    "- 25% = first quartile (Q1) = median of the lower half of the data\n",
    "- 50% = second quartile (Q2) = median of the data\n",
    "- 75% = third quartile (Q3) = median of the upper half of the data\n",
    "- max = maximum value\n",
    "\n",
    "(It's more useful than mean and standard deviation for describing skewed distributions.)\n",
    "\n",
    "**Interquartile Range (IQR)** = Q3 - Q1\n",
    "\n",
    "**Outliers:**\n",
    "\n",
    "- below Q1 - 1.5 * IQR\n",
    "- above Q3 + 1.5 * IQR\n",
    "\n",
    "You can see more on how to read a boxplot [here](https://www.mathbootcamps.com/how-to-read-a-boxplot/)."
   ]
  },
  {
   "cell_type": "code",
   "execution_count": null,
   "metadata": {
    "ExecuteTime": {
     "end_time": "2021-06-24T22:12:35.195462Z",
     "start_time": "2021-06-24T22:12:34.845954Z"
    }
   },
   "outputs": [],
   "source": [
    "df.boxplot();"
   ]
  },
  {
   "cell_type": "markdown",
   "metadata": {},
   "source": [
    "### Let's see how box plots are generated so we can best interpret them."
   ]
  },
  {
   "cell_type": "code",
   "execution_count": null,
   "metadata": {
    "ExecuteTime": {
     "end_time": "2021-06-24T22:13:23.174303Z",
     "start_time": "2021-06-24T22:13:23.147840Z"
    }
   },
   "outputs": [],
   "source": [
    "# Sort the spirit column.\n",
    "drinks.spirit.sort_values().values"
   ]
  },
  {
   "cell_type": "code",
   "execution_count": null,
   "metadata": {
    "ExecuteTime": {
     "end_time": "2021-06-24T22:13:32.973071Z",
     "start_time": "2021-06-24T22:13:32.955046Z"
    }
   },
   "outputs": [],
   "source": [
    "# Show \"five-number summary\" for spirit.\n",
    "drinks.spirit.describe()"
   ]
  },
  {
   "cell_type": "code",
   "execution_count": null,
   "metadata": {
    "ExecuteTime": {
     "end_time": "2021-06-24T22:14:05.175743Z",
     "start_time": "2021-06-24T22:14:04.926492Z"
    }
   },
   "outputs": [],
   "source": [
    "# Compare with box plot.\n",
    "drinks.spirit.plot(kind='box');"
   ]
  },
  {
   "cell_type": "code",
   "execution_count": null,
   "metadata": {
    "ExecuteTime": {
     "end_time": "2021-06-24T22:14:27.877179Z",
     "start_time": "2021-06-24T22:14:27.585224Z"
    }
   },
   "outputs": [],
   "source": [
    "# Include multiple variables.\n",
    "drinks.drop('liters', axis=1).plot(kind='box');"
   ]
  },
  {
   "cell_type": "markdown",
   "metadata": {},
   "source": [
    "### How to use a box plot to preview the distributions in the heart data"
   ]
  },
  {
   "cell_type": "code",
   "execution_count": null,
   "metadata": {
    "ExecuteTime": {
     "end_time": "2021-11-30T02:44:29.651668Z",
     "start_time": "2021-11-30T02:44:29.354822Z"
    }
   },
   "outputs": [],
   "source": [
    "heart_df.boxplot();"
   ]
  },
  {
   "cell_type": "markdown",
   "metadata": {},
   "source": [
    "<a id=\"grouped-box-plots\"></a>\n",
    "### Grouped box plots: Show one box plot for each group."
   ]
  },
  {
   "cell_type": "code",
   "execution_count": null,
   "metadata": {
    "ExecuteTime": {
     "end_time": "2021-11-30T02:45:16.716649Z",
     "start_time": "2021-11-30T02:45:16.577736Z"
    }
   },
   "outputs": [],
   "source": [
    "# Reminder: box plot of cholesterol levels\n",
    "heart_df['chol'].plot(kind='box');"
   ]
  },
  {
   "cell_type": "code",
   "execution_count": null,
   "metadata": {
    "ExecuteTime": {
     "end_time": "2021-06-24T22:15:56.972178Z",
     "start_time": "2021-06-24T22:15:56.608204Z"
    },
    "scrolled": false
   },
   "outputs": [],
   "source": [
    "# Box plot of beer servings grouped by continent\n",
    "#drinks.boxplot(column='beer', by='continent');\n",
    "\n",
    "# box plot of cholesterol levels grouped by diag\n",
    "heart_df.boxplot(column='chol', by='diag');"
   ]
  },
  {
   "cell_type": "markdown",
   "metadata": {},
   "source": [
    "##### Exercise: Make a box plot for heart data grouped by ```diag```\n",
    "\n",
    "1. Make a box plot for the features ```'chol', 'thalach', 'trestbps'``` grouped by ```diag```"
   ]
  },
  {
   "cell_type": "code",
   "execution_count": null,
   "metadata": {
    "ExecuteTime": {
     "end_time": "2021-06-24T22:52:20.065859Z",
     "start_time": "2021-06-24T22:52:19.580611Z"
    }
   },
   "outputs": [],
   "source": [
    "# Box plot of select numeric columns grouped by diag\n",
    "heart_df[['chol','diag']].boxplot(by='diag');\n"
   ]
  },
  {
   "cell_type": "code",
   "execution_count": null,
   "metadata": {
    "ExecuteTime": {
     "end_time": "2021-06-24T22:53:17.717484Z",
     "start_time": "2021-06-24T22:53:15.814155Z"
    },
    "scrolled": false
   },
   "outputs": [],
   "source": [
    "\n"
   ]
  },
  {
   "cell_type": "markdown",
   "metadata": {},
   "source": [
    "<a id=\"scatter-plots\"></a>\n",
    "## Scatter plots: Show the relationship between two numerical variables\n",
    "---\n"
   ]
  },
  {
   "cell_type": "code",
   "execution_count": null,
   "metadata": {
    "ExecuteTime": {
     "end_time": "2021-11-30T02:45:28.611710Z",
     "start_time": "2021-11-30T02:45:28.600196Z"
    }
   },
   "outputs": [],
   "source": [
    "# Select the beer and wine columns and sort by beer.\n",
    "drinks[['beer', 'wine']].sort_values('beer')"
   ]
  },
  {
   "cell_type": "code",
   "execution_count": null,
   "metadata": {
    "ExecuteTime": {
     "end_time": "2021-11-30T02:45:29.341370Z",
     "start_time": "2021-11-30T02:45:29.144133Z"
    }
   },
   "outputs": [],
   "source": [
    "# Compare with scatter plot.\n",
    "drinks.plot(kind='scatter', x='beer', y='wine');"
   ]
  },
  {
   "cell_type": "code",
   "execution_count": null,
   "metadata": {
    "ExecuteTime": {
     "end_time": "2021-11-30T02:46:01.898655Z",
     "start_time": "2021-11-30T02:46:01.688539Z"
    }
   },
   "outputs": [],
   "source": [
    "# Add transparency (great for plotting several graphs on top of each other, or for illustrating density!).\n",
    "drinks.plot(kind='scatter', x='beer', y='wine', alpha=0.5, figsize=(10,8));\n",
    "#drinks.plot(kind='scatter', x='liters', y='wine', alpha=0.7);"
   ]
  },
  {
   "cell_type": "code",
   "execution_count": null,
   "metadata": {
    "ExecuteTime": {
     "end_time": "2021-11-30T02:45:49.585271Z",
     "start_time": "2021-11-30T02:45:49.316003Z"
    },
    "scrolled": false
   },
   "outputs": [],
   "source": [
    "# Vary point color by spirit servings.\n",
    "drinks.plot(kind='scatter', x='beer', y='wine', c='spirit', colormap='Blues', figsize=(10,8));"
   ]
  },
  {
   "cell_type": "code",
   "execution_count": null,
   "metadata": {
    "ExecuteTime": {
     "end_time": "2021-11-30T02:46:34.500768Z",
     "start_time": "2021-11-30T02:46:33.953124Z"
    },
    "scrolled": false
   },
   "outputs": [],
   "source": [
    "# Scatter matrix of three numerical columns\n",
    "pd.plotting.scatter_matrix(drinks[['beer', 'spirit', 'wine']], figsize=(10, 8), diagonal='hist');"
   ]
  },
  {
   "cell_type": "markdown",
   "metadata": {},
   "source": [
    "##### Exercise: create a scatter matrix for the heart data.\n",
    "\n",
    "1. using pandas create a scatter plot for the following features ```'chol', 'thalach', 'trestbps'```"
   ]
  },
  {
   "cell_type": "code",
   "execution_count": null,
   "metadata": {
    "ExecuteTime": {
     "end_time": "2021-06-24T22:28:45.249228Z",
     "start_time": "2021-06-24T22:28:44.362963Z"
    }
   },
   "outputs": [],
   "source": [
    "## create a scatter plot using pandas\n",
    "\n"
   ]
  },
  {
   "cell_type": "markdown",
   "metadata": {},
   "source": [
    "### Plotting `DataFrames`"
   ]
  },
  {
   "cell_type": "code",
   "execution_count": null,
   "metadata": {
    "ExecuteTime": {
     "end_time": "2021-06-24T22:30:45.074378Z",
     "start_time": "2021-06-24T22:30:44.795769Z"
    }
   },
   "outputs": [],
   "source": [
    "df.plot(x='col3', y='col4', kind='scatter', color='blue',\n",
    "        figsize=(15,7), s=100);"
   ]
  },
  {
   "cell_type": "markdown",
   "metadata": {},
   "source": [
    "#### Exercise: View the association between the variables `chol` and `trestbps` using a scatter plot\n",
    "1. create a scatterplot of ```chol``` vs ```trestbps```. Use the following parameters.\n",
    "- set figure size to (15,7)\n",
    "- set marker size to 100\n",
    "- set color to ```dodgerblue```\n",
    "2. Give the plot the title 'Scatterplot Cholesterol vs Resting BP'."
   ]
  },
  {
   "cell_type": "code",
   "execution_count": null,
   "metadata": {
    "ExecuteTime": {
     "end_time": "2021-06-24T22:31:10.004596Z",
     "start_time": "2021-06-24T22:31:09.719715Z"
    }
   },
   "outputs": [],
   "source": [
    "# Scatter plot of chol vs trestbps\n"
   ]
  },
  {
   "cell_type": "markdown",
   "metadata": {},
   "source": [
    "### How to use a list comprehension to change the size of the scatter plot dots based on a selected feature.\n",
    "We've seen we can set the size of the marker in our scatter plot. Now we'll show how to make that marker size variable based on the values of another feature in data.\n",
    "\n",
    "Here we're still plotting ```chol``` vs ```trestbps```, but now we set the marker size as a function of the feature ```oldpeak```."
   ]
  },
  {
   "cell_type": "code",
   "execution_count": null,
   "metadata": {
    "ExecuteTime": {
     "end_time": "2021-11-30T02:47:38.849128Z",
     "start_time": "2021-11-30T02:47:38.666568Z"
    }
   },
   "outputs": [],
   "source": [
    "# This list comprehension sets the point sizes ('s') to be the squares of the values in housing['DIS']\n",
    "heart_df.plot(x='chol', y='trestbps', kind='scatter', \n",
    "           color='dodgerblue', figsize=(15,7), s=[x**4 for x in heart_df['oldpeak']]);"
   ]
  },
  {
   "cell_type": "markdown",
   "metadata": {},
   "source": [
    "<a id=\"seaborn\"></a>\n",
    "## Seaborn `pairplot`\n",
    "\n",
    "---\n",
    "\n",
    "- **Objective:** Know when to use Seaborn or advanced Matplotlib.\n",
    "\n",
    "With the `DataFrame` object `housing`, we will render a pairplot using the Seaborn library.\n",
    "What do each of the elements represent? Is this more or less useful than the previous plot?"
   ]
  },
  {
   "cell_type": "code",
   "execution_count": null,
   "metadata": {
    "ExecuteTime": {
     "end_time": "2021-11-30T02:48:36.056069Z",
     "start_time": "2021-11-30T02:48:21.110038Z"
    }
   },
   "outputs": [],
   "source": [
    "sns.pairplot(heart_df);"
   ]
  },
  {
   "cell_type": "code",
   "execution_count": null,
   "metadata": {
    "ExecuteTime": {
     "end_time": "2021-11-30T02:49:01.096542Z",
     "start_time": "2021-11-30T02:48:36.057926Z"
    },
    "scrolled": true
   },
   "outputs": [],
   "source": [
    "sns.pairplot(housing);"
   ]
  },
  {
   "cell_type": "markdown",
   "metadata": {},
   "source": [
    "**Answer:** _What do each of the elements represent?  Is this more or less useful than the previous plot?_\n",
    "> In a pair plot we get to see every relationship between every _pair_ of variables.  We can see this is very useful for quickly discovering which variables have some kind of correlation during an exploratory data analysis.  However, when just looking at the `INDUS` feature, the pair plot is more difficult to read and interpret as opposed to the single histogram.  "
   ]
  },
  {
   "cell_type": "markdown",
   "metadata": {},
   "source": [
    "## Seaborn `heatmap` and lmplot()\n",
    "---\n",
    "\n"
   ]
  },
  {
   "cell_type": "markdown",
   "metadata": {},
   "source": [
    "### Scatter plots in Seaborn\n",
    "\n",
    "The simplest way to create a scatterplot between two features in in Seaborn is with `lmplot()`"
   ]
  },
  {
   "cell_type": "code",
   "execution_count": null,
   "metadata": {
    "ExecuteTime": {
     "end_time": "2021-11-30T02:55:07.521943Z",
     "start_time": "2021-11-30T02:55:07.493032Z"
    }
   },
   "outputs": [],
   "source": [
    "housing.columns"
   ]
  },
  {
   "cell_type": "code",
   "execution_count": null,
   "metadata": {
    "ExecuteTime": {
     "end_time": "2021-11-30T02:57:51.865866Z",
     "start_time": "2021-11-30T02:57:51.638053Z"
    }
   },
   "outputs": [],
   "source": [
    "# Specify the x data, y data and the dataset to draw from. We draw this plot without a regression or trend line. \n",
    "sns.lmplot(x='RM', y='MEDV', data=housing, fit_reg=False)"
   ]
  },
  {
   "cell_type": "markdown",
   "metadata": {},
   "source": [
    "### Seaborn `heatmap`\n",
    "When you have too many variables, a pairplot or scatter matrix can become impossible to read. We can still gauge linear correlation using a heatmap of the correlation matrix."
   ]
  },
  {
   "cell_type": "code",
   "execution_count": null,
   "metadata": {
    "ExecuteTime": {
     "end_time": "2021-06-24T22:48:25.191658Z",
     "start_time": "2021-06-24T22:48:25.179971Z"
    }
   },
   "outputs": [],
   "source": [
    "# Make a heatmap on the correlations between variables in the housing data:\n",
    "housing_correlations = housing.corr();\n",
    "is_big = (housing_correlations > 0.75) | (housing_correlations < -0.75)\n",
    "\n",
    "tmp_df = housing_correlations[is_big]"
   ]
  },
  {
   "cell_type": "code",
   "execution_count": null,
   "metadata": {
    "ExecuteTime": {
     "end_time": "2021-06-24T22:48:37.408091Z",
     "start_time": "2021-06-24T22:48:36.877863Z"
    }
   },
   "outputs": [],
   "source": [
    "sns.heatmap(tmp_df)"
   ]
  },
  {
   "cell_type": "code",
   "execution_count": null,
   "metadata": {
    "ExecuteTime": {
     "end_time": "2021-06-24T22:37:45.661546Z",
     "start_time": "2021-06-24T22:37:45.227213Z"
    }
   },
   "outputs": [],
   "source": [
    "sns.heatmap(housing_correlations);"
   ]
  },
  {
   "cell_type": "markdown",
   "metadata": {},
   "source": [
    "### Exercise: Create a scatter plot of two heatmap entries that appear to have a very positive correlation."
   ]
  },
  {
   "cell_type": "code",
   "execution_count": null,
   "metadata": {
    "ExecuteTime": {
     "end_time": "2021-11-30T02:58:23.594243Z",
     "start_time": "2021-11-30T02:58:23.591682Z"
    }
   },
   "outputs": [],
   "source": [
    "#Create a scatter plot of two heatmap entries that appear to have a very positive correlation. Use seaborn lmplot()\n",
    "# add a title to your graph\n",
    "\n"
   ]
  },
  {
   "cell_type": "markdown",
   "metadata": {},
   "source": [
    "### Exercise: Now, create a scatter plot of two heatmap entries that appear to have negative correlation."
   ]
  },
  {
   "cell_type": "code",
   "execution_count": null,
   "metadata": {
    "ExecuteTime": {
     "end_time": "2021-11-30T02:58:40.921018Z",
     "start_time": "2021-11-30T02:58:40.918688Z"
    }
   },
   "outputs": [],
   "source": [
    "# create a scatter plot of two heatmap entries that appear to have negative correlation.\n",
    "# add a title\n"
   ]
  },
  {
   "cell_type": "markdown",
   "metadata": {},
   "source": [
    "### Exercise: Use seaborn's `.lmplot()` method to generate a scatterplot with a trendline. Use any two variables from the housing data you want."
   ]
  },
  {
   "cell_type": "code",
   "execution_count": null,
   "metadata": {
    "ExecuteTime": {
     "end_time": "2020-09-27T03:46:58.361852Z",
     "start_time": "2020-09-27T03:46:58.359171Z"
    }
   },
   "outputs": [],
   "source": [
    "# create seaborn scatter plot with a trendline"
   ]
  },
  {
   "cell_type": "markdown",
   "metadata": {},
   "source": [
    "<a id=\"matplotlib\"></a>\n",
    "## OPTIONAL: Understanding Matplotlib (Figures, Subplots, and Axes)\n",
    "\n",
    "---"
   ]
  },
  {
   "cell_type": "markdown",
   "metadata": {},
   "source": [
    "###### Digging into Matplotlib Pyplot\n",
    "**`pyplot`** provides a useful interface to access the plotting capabilities of matplotlib. A primary function allows you to create a Figure and any number of Axes (plots). It's possible to do this without pyplot, but it's more complicated. The usual approach is to first create your Figure and Axes and then call various methods on these two objects to create and format you graphs.\n",
    "\n",
    "###  `subplots` \n",
    "The **`subplots`** function is what we use to create a Figure and any number of Axes we need. By default it only creates a single Axes within a Figure, but we can create as many as we need. Note that the term Axes actually refers to object where plots are drawn (i.e. where the pixels get placed).\n",
    "\n",
    "The `subplots` function returns a tuple containing the Figure and the Axes. Then use these to create a graph with the **`.plot()`** method."
   ]
  },
  {
   "cell_type": "code",
   "execution_count": null,
   "metadata": {
    "ExecuteTime": {
     "end_time": "2021-11-30T03:00:01.679756Z",
     "start_time": "2021-11-30T03:00:01.558073Z"
    }
   },
   "outputs": [],
   "source": [
    "# create a figure and single axes\n",
    "fig, ax = plt.subplots()\n",
    "\n",
    "x = np.arange(-10, 11)\n",
    "y = x ** 2\n",
    "ax.plot(x, y);"
   ]
  },
  {
   "cell_type": "markdown",
   "metadata": {},
   "source": [
    "Figure is essentially a blank canvas."
   ]
  },
  {
   "cell_type": "code",
   "execution_count": null,
   "metadata": {
    "ExecuteTime": {
     "end_time": "2021-11-30T03:00:03.661078Z",
     "start_time": "2021-11-30T03:00:03.537791Z"
    }
   },
   "outputs": [],
   "source": [
    "fig = plt.subplots(figsize=(8,6));"
   ]
  },
  {
   "cell_type": "markdown",
   "metadata": {},
   "source": [
    "## Within this canvas, we can contain smaller objects called axes."
   ]
  },
  {
   "cell_type": "code",
   "execution_count": null,
   "metadata": {
    "ExecuteTime": {
     "end_time": "2021-11-30T03:00:05.108742Z",
     "start_time": "2021-11-30T03:00:04.604746Z"
    }
   },
   "outputs": [],
   "source": [
    "fig, axes = plt.subplots(2,3, figsize=(16,8));"
   ]
  },
  {
   "cell_type": "markdown",
   "metadata": {},
   "source": [
    "#### Exercise:\n",
    "Pandas allows us to plot to a specified axes if we pass the object to the ax parameter.\n",
    "\n",
    "Using the ```df``` dataframe generate the following plots:\n",
    "1. Plot the full dataframe in the first subplot of the first row.\n",
    "2. Plot ```col1``` in the second plot, make the line red.\n",
    "3. Plot ```col2``` in the last plot in the first row, make the line green.\n",
    "4. Plot ```col3``` in the first plot of the second row, make the line blue.\n",
    "5. Plot ```col4``` in the second plot in the second row, make the line orange.\n",
    "6. Plot ```col2``` and ```col3``` in the last plot of the second row, make ```col2``` red and ```col3``` blue."
   ]
  },
  {
   "cell_type": "code",
   "execution_count": null,
   "metadata": {
    "ExecuteTime": {
     "end_time": "2020-11-19T05:36:34.213187Z",
     "start_time": "2020-11-19T05:36:33.546206Z"
    },
    "scrolled": false
   },
   "outputs": [],
   "source": [
    "# Answer here.\n"
   ]
  },
  {
   "cell_type": "markdown",
   "metadata": {},
   "source": [
    "## Let's use a bit more customization.\n",
    "---"
   ]
  },
  {
   "cell_type": "code",
   "execution_count": null,
   "metadata": {
    "ExecuteTime": {
     "end_time": "2021-11-30T03:00:33.329385Z",
     "start_time": "2021-11-30T03:00:32.726099Z"
    }
   },
   "outputs": [],
   "source": [
    "fig, axes = plt.subplots(2,2, figsize=(16,8))\n",
    "\n",
    "# We can change the ticks' size.\n",
    "df['col2'].plot(figsize=(16,4), color='purple', fontsize=21, ax=axes[0][0])\n",
    "\n",
    "# We can also change which ticks are visible.\n",
    "# Let's show only the even ticks. ('idx % 2 == 0' only if 'idx' is even.)\n",
    "ticks_to_show = [idx for idx, _ in enumerate(df['col2'].index) if idx % 2 == 0]\n",
    "df['col2'].plot(figsize=(16,4), color='purple', xticks=ticks_to_show, fontsize=16, ax=axes[0][1])\n",
    "\n",
    "# We can change the label rotation.\n",
    "df.plot(figsize=(15,7), title='Big Rotated Labels - Tiny Title',\\\n",
    "        fontsize=20, rot=-50, ax=axes[1][0])\\\n",
    "\n",
    "# We have to use \".set_title()\" to fix title size.\n",
    "df.plot(figsize=(16,8), fontsize=20, rot=-50, ax=axes[1][1])\\\n",
    "       .set_title('Better-Sized Title', fontsize=21, y=1.01);"
   ]
  },
  {
   "cell_type": "markdown",
   "metadata": {
    "collapsed": true
   },
   "source": [
    "<a id=\"additional-topics\"></a>\n",
    "## OPTIONAL: Additional Topics"
   ]
  },
  {
   "cell_type": "code",
   "execution_count": null,
   "metadata": {
    "ExecuteTime": {
     "end_time": "2020-06-17T05:33:52.206542Z",
     "start_time": "2020-06-17T05:33:52.018223Z"
    }
   },
   "outputs": [],
   "source": [
    "# Saving a plot to a file\n",
    "drinks.beer.plot(kind='hist', bins=20, title='Histogram of Beer Servings');\n",
    "plt.xlabel('Beer Servings');\n",
    "plt.ylabel('Frequency');\n",
    "plt.savefig('beer_histogram.png');    # Save to file!"
   ]
  },
  {
   "cell_type": "code",
   "execution_count": null,
   "metadata": {
    "ExecuteTime": {
     "end_time": "2020-06-17T05:32:50.151118Z",
     "start_time": "2020-06-17T05:32:50.145867Z"
    }
   },
   "outputs": [],
   "source": [
    "# List available plot styles\n",
    "plt.style.available"
   ]
  },
  {
   "cell_type": "code",
   "execution_count": null,
   "metadata": {
    "ExecuteTime": {
     "end_time": "2020-06-17T05:34:45.048668Z",
     "start_time": "2020-06-17T05:34:45.04474Z"
    }
   },
   "outputs": [],
   "source": [
    "# Change to a different style.\n",
    "plt.style.use('seaborn-white')"
   ]
  },
  {
   "cell_type": "code",
   "execution_count": null,
   "metadata": {
    "ExecuteTime": {
     "end_time": "2020-06-17T05:34:50.708012Z",
     "start_time": "2020-06-17T05:34:46.175787Z"
    }
   },
   "outputs": [],
   "source": [
    "# Saving a plot to a file\n",
    "drinks.beer.plot(kind='hist', bins=20, title='Histogram of Beer Servings');\n",
    "plt.xlabel('Beer Servings');\n",
    "plt.ylabel('Frequency');\n",
    "plt.savefig('beer_histogram.png');    # Save to file!"
   ]
  },
  {
   "cell_type": "markdown",
   "metadata": {
    "collapsed": true
   },
   "source": [
    "<a id=\"summary\"></a>\n",
    "### Summary\n",
    "\n",
    "In this lesson, we showed examples how to create a variety of plots using Pandas and Matplotlib. We also showed how to use each plot to effectively display data.\n",
    "\n",
    "Do not be concerned if you do not remember everything — this will come with practice! Although there are many plot styles, many similarities exist between how each plot is drawn. For example, they have most parameters in common, and the same Matplotlib functions are used to modify the plot area.\n",
    "\n",
    "We looked at:\n",
    "- Line plots\n",
    "- Bar plots\n",
    "- Histograms\n",
    "- Box plots\n",
    "- Special seaborn plots\n",
    "- How Matplotlib works"
   ]
  },
  {
   "cell_type": "code",
   "execution_count": null,
   "metadata": {},
   "outputs": [],
   "source": []
  }
 ],
 "metadata": {
  "kernelspec": {
   "display_name": "Python 3",
   "language": "python",
   "name": "python3"
  },
  "language_info": {
   "codemirror_mode": {
    "name": "ipython",
    "version": 3
   },
   "file_extension": ".py",
   "mimetype": "text/x-python",
   "name": "python",
   "nbconvert_exporter": "python",
   "pygments_lexer": "ipython3",
   "version": "3.7.3"
  },
  "toc": {
   "base_numbering": 1,
   "nav_menu": {},
   "number_sections": false,
   "sideBar": true,
   "skip_h1_title": false,
   "title_cell": "Table of Contents",
   "title_sidebar": "Contents",
   "toc_cell": false,
   "toc_position": {},
   "toc_section_display": true,
   "toc_window_display": false
  }
 },
 "nbformat": 4,
 "nbformat_minor": 2
}
